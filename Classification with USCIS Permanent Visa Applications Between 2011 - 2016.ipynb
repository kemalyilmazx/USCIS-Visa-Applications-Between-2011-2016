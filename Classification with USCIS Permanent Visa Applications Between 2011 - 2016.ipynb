{
 "cells": [
  {
   "cell_type": "markdown",
   "metadata": {},
   "source": [
    "# USCIS PERMANENT VISA APPLICATIONS BETWEEN 2011 - 2016"
   ]
  },
  {
   "cell_type": "markdown",
   "metadata": {},
   "source": [
    "### INTRODUCTION"
   ]
  },
  {
   "cell_type": "markdown",
   "metadata": {},
   "source": [
    "\"A permanent labor certification issued by the Department of Labor (DOL) allows an employer to hire a foreign worker to work permanently in the United States. In most instances, before the U.S. employer can submit an immigration petition to the Department of Homeland Security's U.S. Citizenship and Immigration Services (USCIS), the employer must obtain a certified labor certification application from the DOL's Employment and Training Administration (ETA). The DOL must certify to the USCIS that there are not sufficient U.S. workers able, willing, qualified and available to accept the job opportunity in the area of intended employment and that employment of the foreign worker will not adversely affect the wages and working conditions of similarly employed U.S. workers\".** <br>\n",
    "*For more information: https://www.kaggle.com/jboysen/us-perm-visas"
   ]
  },
  {
   "cell_type": "markdown",
   "metadata": {},
   "source": [
    "## 1. Exploratory Data Analysis \n",
    "###    1.1. Missing values\n",
    "###    1.2. Overview of cases:\n",
    "            1.2.1. Case Results\n",
    "            1.2.2. Application in Years\n",
    "            1.2.3. Visa Types\n",
    "            1.2.4. H-1B\n",
    "###    1.3. General Information:\n",
    "            1.3.1. States\n",
    "            1.3.2. Cities\n",
    "            1.3.3. Sectors\n",
    "            1.3.4. Companies\n",
    "###    1.4. Applicants:\n",
    "            1.4.1. Citizenship\n",
    "            1.4.2. Education\n",
    "            1.4.3. Titles\n",
    "            1.4.4. Salary range\n",
    "            1.4.5. Payment type\n",
    "\n",
    "\n",
    "## 2. Modelling\n",
    "###      2.1. Imputation\n",
    "###      2.2. Label Endocing\n",
    "###      2.3. Train-Test Split\n",
    "###      2.4. Models:\n",
    "           2.4.1. K-Nearest Neighbors\n",
    "           2.4.2. Logistic Regression\n",
    "           2.4.3. Random Forest Classifier\n",
    "           2.4.4. Decision Tree Classifier\n",
    "###       2.5. Comparing Scores of the Models\n",
    "###       2.6. Elaborating KNN by Elbow Method\n",
    "       \n",
    "           \n",
    "       "
   ]
  },
  {
   "cell_type": "markdown",
   "metadata": {},
   "source": [
    "## 1. Exploratory Data Analysis "
   ]
  },
  {
   "cell_type": "code",
   "execution_count": 1,
   "metadata": {},
   "outputs": [
    {
     "name": "stderr",
     "output_type": "stream",
     "text": [
      "C:\\ProgramData\\Anaconda3\\lib\\site-packages\\ggplot\\utils.py:81: FutureWarning: pandas.tslib is deprecated and will be removed in a future version.\n",
      "You can access Timestamp as pandas.Timestamp\n",
      "  pd.tslib.Timestamp,\n",
      "C:\\ProgramData\\Anaconda3\\lib\\site-packages\\ggplot\\stats\\smoothers.py:4: FutureWarning: The pandas.lib module is deprecated and will be removed in a future version. These are private functions and can be accessed from pandas._libs.lib instead\n",
      "  from pandas.lib import Timestamp\n",
      "C:\\ProgramData\\Anaconda3\\lib\\site-packages\\statsmodels\\compat\\pandas.py:56: FutureWarning: The pandas.core.datetools module is deprecated and will be removed in a future version. Please use the pandas.tseries module instead.\n",
      "  from pandas.core import datetools\n"
     ]
    }
   ],
   "source": [
    "import pandas as pd\n",
    "import numpy as np\n",
    "import matplotlib.pyplot as plt\n",
    "import seaborn as sns\n",
    "from ggplot import *\n",
    "%matplotlib inline\n",
    "\n",
    "import warnings\n",
    "warnings.filterwarnings(\"ignore\")"
   ]
  },
  {
   "cell_type": "code",
   "execution_count": 2,
   "metadata": {
    "collapsed": true
   },
   "outputs": [],
   "source": [
    "visa = pd.read_csv(\"us_perm_visas.csv\", low_memory= False, parse_dates=[\"decision_date\", \"case_received_date\"])"
   ]
  },
  {
   "cell_type": "code",
   "execution_count": 3,
   "metadata": {},
   "outputs": [
    {
     "data": {
      "text/plain": [
       "(374362, 154)"
      ]
     },
     "execution_count": 3,
     "metadata": {},
     "output_type": "execute_result"
    }
   ],
   "source": [
    "visa.shape"
   ]
  },
  {
   "cell_type": "code",
   "execution_count": 4,
   "metadata": {},
   "outputs": [
    {
     "name": "stdout",
     "output_type": "stream",
     "text": [
      "<class 'pandas.core.frame.DataFrame'>\n",
      "RangeIndex: 374362 entries, 0 to 374361\n",
      "Columns: 154 entries, add_these_pw_job_title_9089 to wage_offered_unit_of_pay_9089\n",
      "dtypes: datetime64[ns](2), float64(10), object(142)\n",
      "memory usage: 439.8+ MB\n"
     ]
    }
   ],
   "source": [
    "visa.info()"
   ]
  },
  {
   "cell_type": "code",
   "execution_count": 5,
   "metadata": {},
   "outputs": [
    {
     "data": {
      "text/html": [
       "<div>\n",
       "<style>\n",
       "    .dataframe thead tr:only-child th {\n",
       "        text-align: right;\n",
       "    }\n",
       "\n",
       "    .dataframe thead th {\n",
       "        text-align: left;\n",
       "    }\n",
       "\n",
       "    .dataframe tbody tr th {\n",
       "        vertical-align: top;\n",
       "    }\n",
       "</style>\n",
       "<table border=\"1\" class=\"dataframe\">\n",
       "  <thead>\n",
       "    <tr style=\"text-align: right;\">\n",
       "      <th></th>\n",
       "      <th>add_these_pw_job_title_9089</th>\n",
       "      <th>agent_city</th>\n",
       "      <th>agent_firm_name</th>\n",
       "      <th>agent_state</th>\n",
       "      <th>application_type</th>\n",
       "      <th>case_no</th>\n",
       "      <th>case_number</th>\n",
       "      <th>case_received_date</th>\n",
       "      <th>case_status</th>\n",
       "      <th>class_of_admission</th>\n",
       "      <th>...</th>\n",
       "      <th>ri_pvt_employment_firm_to</th>\n",
       "      <th>ri_us_workers_considered</th>\n",
       "      <th>schd_a_sheepherder</th>\n",
       "      <th>us_economic_sector</th>\n",
       "      <th>wage_offer_from_9089</th>\n",
       "      <th>wage_offer_to_9089</th>\n",
       "      <th>wage_offer_unit_of_pay_9089</th>\n",
       "      <th>wage_offered_from_9089</th>\n",
       "      <th>wage_offered_to_9089</th>\n",
       "      <th>wage_offered_unit_of_pay_9089</th>\n",
       "    </tr>\n",
       "  </thead>\n",
       "  <tbody>\n",
       "    <tr>\n",
       "      <th>0</th>\n",
       "      <td>NaN</td>\n",
       "      <td>NaN</td>\n",
       "      <td>NaN</td>\n",
       "      <td>NaN</td>\n",
       "      <td>PERM</td>\n",
       "      <td>A-07323-97014</td>\n",
       "      <td>NaN</td>\n",
       "      <td>NaT</td>\n",
       "      <td>Certified</td>\n",
       "      <td>J-1</td>\n",
       "      <td>...</td>\n",
       "      <td>NaN</td>\n",
       "      <td>NaN</td>\n",
       "      <td>NaN</td>\n",
       "      <td>IT</td>\n",
       "      <td>75629.0</td>\n",
       "      <td>NaN</td>\n",
       "      <td>yr</td>\n",
       "      <td>NaN</td>\n",
       "      <td>NaN</td>\n",
       "      <td>NaN</td>\n",
       "    </tr>\n",
       "    <tr>\n",
       "      <th>1</th>\n",
       "      <td>NaN</td>\n",
       "      <td>NaN</td>\n",
       "      <td>NaN</td>\n",
       "      <td>NaN</td>\n",
       "      <td>PERM</td>\n",
       "      <td>A-07332-99439</td>\n",
       "      <td>NaN</td>\n",
       "      <td>NaT</td>\n",
       "      <td>Denied</td>\n",
       "      <td>B-2</td>\n",
       "      <td>...</td>\n",
       "      <td>NaN</td>\n",
       "      <td>NaN</td>\n",
       "      <td>NaN</td>\n",
       "      <td>Other Economic Sector</td>\n",
       "      <td>37024.0</td>\n",
       "      <td>NaN</td>\n",
       "      <td>yr</td>\n",
       "      <td>NaN</td>\n",
       "      <td>NaN</td>\n",
       "      <td>NaN</td>\n",
       "    </tr>\n",
       "    <tr>\n",
       "      <th>2</th>\n",
       "      <td>NaN</td>\n",
       "      <td>NaN</td>\n",
       "      <td>NaN</td>\n",
       "      <td>NaN</td>\n",
       "      <td>PERM</td>\n",
       "      <td>A-07333-99643</td>\n",
       "      <td>NaN</td>\n",
       "      <td>NaT</td>\n",
       "      <td>Certified</td>\n",
       "      <td>H-1B</td>\n",
       "      <td>...</td>\n",
       "      <td>NaN</td>\n",
       "      <td>NaN</td>\n",
       "      <td>NaN</td>\n",
       "      <td>Aerospace</td>\n",
       "      <td>47923.0</td>\n",
       "      <td>NaN</td>\n",
       "      <td>yr</td>\n",
       "      <td>NaN</td>\n",
       "      <td>NaN</td>\n",
       "      <td>NaN</td>\n",
       "    </tr>\n",
       "    <tr>\n",
       "      <th>3</th>\n",
       "      <td>NaN</td>\n",
       "      <td>NaN</td>\n",
       "      <td>NaN</td>\n",
       "      <td>NaN</td>\n",
       "      <td>PERM</td>\n",
       "      <td>A-07339-01930</td>\n",
       "      <td>NaN</td>\n",
       "      <td>NaT</td>\n",
       "      <td>Certified</td>\n",
       "      <td>B-2</td>\n",
       "      <td>...</td>\n",
       "      <td>NaN</td>\n",
       "      <td>NaN</td>\n",
       "      <td>NaN</td>\n",
       "      <td>Other Economic Sector</td>\n",
       "      <td>10.97</td>\n",
       "      <td>NaN</td>\n",
       "      <td>hr</td>\n",
       "      <td>NaN</td>\n",
       "      <td>NaN</td>\n",
       "      <td>NaN</td>\n",
       "    </tr>\n",
       "    <tr>\n",
       "      <th>4</th>\n",
       "      <td>NaN</td>\n",
       "      <td>NaN</td>\n",
       "      <td>NaN</td>\n",
       "      <td>NaN</td>\n",
       "      <td>PERM</td>\n",
       "      <td>A-07345-03565</td>\n",
       "      <td>NaN</td>\n",
       "      <td>NaT</td>\n",
       "      <td>Certified</td>\n",
       "      <td>L-1</td>\n",
       "      <td>...</td>\n",
       "      <td>NaN</td>\n",
       "      <td>NaN</td>\n",
       "      <td>NaN</td>\n",
       "      <td>Advanced Mfg</td>\n",
       "      <td>100000.0</td>\n",
       "      <td>NaN</td>\n",
       "      <td>yr</td>\n",
       "      <td>NaN</td>\n",
       "      <td>NaN</td>\n",
       "      <td>NaN</td>\n",
       "    </tr>\n",
       "    <tr>\n",
       "      <th>5</th>\n",
       "      <td>NaN</td>\n",
       "      <td>NaN</td>\n",
       "      <td>NaN</td>\n",
       "      <td>NaN</td>\n",
       "      <td>PERM</td>\n",
       "      <td>A-07352-06288</td>\n",
       "      <td>NaN</td>\n",
       "      <td>NaT</td>\n",
       "      <td>Denied</td>\n",
       "      <td>EWI</td>\n",
       "      <td>...</td>\n",
       "      <td>NaN</td>\n",
       "      <td>NaN</td>\n",
       "      <td>NaN</td>\n",
       "      <td>Other Economic Sector</td>\n",
       "      <td>37024.0</td>\n",
       "      <td>NaN</td>\n",
       "      <td>yr</td>\n",
       "      <td>NaN</td>\n",
       "      <td>NaN</td>\n",
       "      <td>NaN</td>\n",
       "    </tr>\n",
       "    <tr>\n",
       "      <th>6</th>\n",
       "      <td>NaN</td>\n",
       "      <td>NaN</td>\n",
       "      <td>NaN</td>\n",
       "      <td>NaN</td>\n",
       "      <td>PERM</td>\n",
       "      <td>A-07354-06926</td>\n",
       "      <td>NaN</td>\n",
       "      <td>NaT</td>\n",
       "      <td>Certified-Expired</td>\n",
       "      <td>H-1B</td>\n",
       "      <td>...</td>\n",
       "      <td>NaN</td>\n",
       "      <td>NaN</td>\n",
       "      <td>NaN</td>\n",
       "      <td>Educational Services</td>\n",
       "      <td>47084.0</td>\n",
       "      <td>52000.0</td>\n",
       "      <td>yr</td>\n",
       "      <td>NaN</td>\n",
       "      <td>NaN</td>\n",
       "      <td>NaN</td>\n",
       "    </tr>\n",
       "    <tr>\n",
       "      <th>7</th>\n",
       "      <td>NaN</td>\n",
       "      <td>NaN</td>\n",
       "      <td>NaN</td>\n",
       "      <td>NaN</td>\n",
       "      <td>PERM</td>\n",
       "      <td>A-08004-10147</td>\n",
       "      <td>NaN</td>\n",
       "      <td>NaT</td>\n",
       "      <td>Denied</td>\n",
       "      <td>E-2</td>\n",
       "      <td>...</td>\n",
       "      <td>NaN</td>\n",
       "      <td>NaN</td>\n",
       "      <td>NaN</td>\n",
       "      <td>Advanced Mfg</td>\n",
       "      <td>36733.0</td>\n",
       "      <td>NaN</td>\n",
       "      <td>yr</td>\n",
       "      <td>NaN</td>\n",
       "      <td>NaN</td>\n",
       "      <td>NaN</td>\n",
       "    </tr>\n",
       "    <tr>\n",
       "      <th>8</th>\n",
       "      <td>NaN</td>\n",
       "      <td>NaN</td>\n",
       "      <td>NaN</td>\n",
       "      <td>NaN</td>\n",
       "      <td>PERM</td>\n",
       "      <td>A-08004-10184</td>\n",
       "      <td>NaN</td>\n",
       "      <td>NaT</td>\n",
       "      <td>Certified</td>\n",
       "      <td>H-1B</td>\n",
       "      <td>...</td>\n",
       "      <td>NaN</td>\n",
       "      <td>NaN</td>\n",
       "      <td>NaN</td>\n",
       "      <td>IT</td>\n",
       "      <td>44824.0</td>\n",
       "      <td>85000.0</td>\n",
       "      <td>yr</td>\n",
       "      <td>NaN</td>\n",
       "      <td>NaN</td>\n",
       "      <td>NaN</td>\n",
       "    </tr>\n",
       "    <tr>\n",
       "      <th>9</th>\n",
       "      <td>NaN</td>\n",
       "      <td>NaN</td>\n",
       "      <td>NaN</td>\n",
       "      <td>NaN</td>\n",
       "      <td>PERM</td>\n",
       "      <td>A-08010-11785</td>\n",
       "      <td>NaN</td>\n",
       "      <td>NaT</td>\n",
       "      <td>Denied</td>\n",
       "      <td>E-2</td>\n",
       "      <td>...</td>\n",
       "      <td>NaN</td>\n",
       "      <td>NaN</td>\n",
       "      <td>NaN</td>\n",
       "      <td>Retail</td>\n",
       "      <td>12.86</td>\n",
       "      <td>16.82</td>\n",
       "      <td>hr</td>\n",
       "      <td>NaN</td>\n",
       "      <td>NaN</td>\n",
       "      <td>NaN</td>\n",
       "    </tr>\n",
       "  </tbody>\n",
       "</table>\n",
       "<p>10 rows × 154 columns</p>\n",
       "</div>"
      ],
      "text/plain": [
       "  add_these_pw_job_title_9089 agent_city agent_firm_name agent_state  \\\n",
       "0                         NaN        NaN             NaN         NaN   \n",
       "1                         NaN        NaN             NaN         NaN   \n",
       "2                         NaN        NaN             NaN         NaN   \n",
       "3                         NaN        NaN             NaN         NaN   \n",
       "4                         NaN        NaN             NaN         NaN   \n",
       "5                         NaN        NaN             NaN         NaN   \n",
       "6                         NaN        NaN             NaN         NaN   \n",
       "7                         NaN        NaN             NaN         NaN   \n",
       "8                         NaN        NaN             NaN         NaN   \n",
       "9                         NaN        NaN             NaN         NaN   \n",
       "\n",
       "  application_type        case_no case_number case_received_date  \\\n",
       "0             PERM  A-07323-97014         NaN                NaT   \n",
       "1             PERM  A-07332-99439         NaN                NaT   \n",
       "2             PERM  A-07333-99643         NaN                NaT   \n",
       "3             PERM  A-07339-01930         NaN                NaT   \n",
       "4             PERM  A-07345-03565         NaN                NaT   \n",
       "5             PERM  A-07352-06288         NaN                NaT   \n",
       "6             PERM  A-07354-06926         NaN                NaT   \n",
       "7             PERM  A-08004-10147         NaN                NaT   \n",
       "8             PERM  A-08004-10184         NaN                NaT   \n",
       "9             PERM  A-08010-11785         NaN                NaT   \n",
       "\n",
       "         case_status class_of_admission              ...                \\\n",
       "0          Certified                J-1              ...                 \n",
       "1             Denied                B-2              ...                 \n",
       "2          Certified               H-1B              ...                 \n",
       "3          Certified                B-2              ...                 \n",
       "4          Certified                L-1              ...                 \n",
       "5             Denied                EWI              ...                 \n",
       "6  Certified-Expired               H-1B              ...                 \n",
       "7             Denied                E-2              ...                 \n",
       "8          Certified               H-1B              ...                 \n",
       "9             Denied                E-2              ...                 \n",
       "\n",
       "  ri_pvt_employment_firm_to ri_us_workers_considered schd_a_sheepherder  \\\n",
       "0                       NaN                      NaN                NaN   \n",
       "1                       NaN                      NaN                NaN   \n",
       "2                       NaN                      NaN                NaN   \n",
       "3                       NaN                      NaN                NaN   \n",
       "4                       NaN                      NaN                NaN   \n",
       "5                       NaN                      NaN                NaN   \n",
       "6                       NaN                      NaN                NaN   \n",
       "7                       NaN                      NaN                NaN   \n",
       "8                       NaN                      NaN                NaN   \n",
       "9                       NaN                      NaN                NaN   \n",
       "\n",
       "      us_economic_sector wage_offer_from_9089 wage_offer_to_9089  \\\n",
       "0                     IT              75629.0                NaN   \n",
       "1  Other Economic Sector              37024.0                NaN   \n",
       "2              Aerospace              47923.0                NaN   \n",
       "3  Other Economic Sector                10.97                NaN   \n",
       "4           Advanced Mfg             100000.0                NaN   \n",
       "5  Other Economic Sector              37024.0                NaN   \n",
       "6   Educational Services              47084.0            52000.0   \n",
       "7           Advanced Mfg              36733.0                NaN   \n",
       "8                     IT              44824.0            85000.0   \n",
       "9                 Retail                12.86              16.82   \n",
       "\n",
       "  wage_offer_unit_of_pay_9089 wage_offered_from_9089 wage_offered_to_9089  \\\n",
       "0                          yr                    NaN                  NaN   \n",
       "1                          yr                    NaN                  NaN   \n",
       "2                          yr                    NaN                  NaN   \n",
       "3                          hr                    NaN                  NaN   \n",
       "4                          yr                    NaN                  NaN   \n",
       "5                          yr                    NaN                  NaN   \n",
       "6                          yr                    NaN                  NaN   \n",
       "7                          yr                    NaN                  NaN   \n",
       "8                          yr                    NaN                  NaN   \n",
       "9                          hr                    NaN                  NaN   \n",
       "\n",
       "   wage_offered_unit_of_pay_9089  \n",
       "0                            NaN  \n",
       "1                            NaN  \n",
       "2                            NaN  \n",
       "3                            NaN  \n",
       "4                            NaN  \n",
       "5                            NaN  \n",
       "6                            NaN  \n",
       "7                            NaN  \n",
       "8                            NaN  \n",
       "9                            NaN  \n",
       "\n",
       "[10 rows x 154 columns]"
      ]
     },
     "execution_count": 5,
     "metadata": {},
     "output_type": "execute_result"
    }
   ],
   "source": [
    "visa.head(10)"
   ]
  },
  {
   "cell_type": "markdown",
   "metadata": {},
   "source": [
    "It seems there are many missing values. Let's see ratio of missing values in each column"
   ]
  },
  {
   "cell_type": "markdown",
   "metadata": {},
   "source": [
    "###    1.1. Missing values"
   ]
  },
  {
   "cell_type": "code",
   "execution_count": 6,
   "metadata": {
    "collapsed": true
   },
   "outputs": [],
   "source": [
    "missing = pd.DataFrame(columns=[\"number_of_missing\", \"missing_ratio\"] ,index=visa.columns)\n",
    "\n",
    "for column in visa.columns:\n",
    "    \n",
    "    missing.loc[column][0] = visa[column].isnull().sum()\n",
    "    missing.loc[column][1] = visa[column].isnull().sum()/len(visa[column])"
   ]
  },
  {
   "cell_type": "code",
   "execution_count": 7,
   "metadata": {},
   "outputs": [
    {
     "data": {
      "text/html": [
       "<div>\n",
       "<style>\n",
       "    .dataframe thead tr:only-child th {\n",
       "        text-align: right;\n",
       "    }\n",
       "\n",
       "    .dataframe thead th {\n",
       "        text-align: left;\n",
       "    }\n",
       "\n",
       "    .dataframe tbody tr th {\n",
       "        vertical-align: top;\n",
       "    }\n",
       "</style>\n",
       "<table border=\"1\" class=\"dataframe\">\n",
       "  <thead>\n",
       "    <tr style=\"text-align: right;\">\n",
       "      <th></th>\n",
       "      <th>number_of_missing</th>\n",
       "      <th>missing_ratio</th>\n",
       "    </tr>\n",
       "  </thead>\n",
       "  <tbody>\n",
       "    <tr>\n",
       "      <th>orig_file_date</th>\n",
       "      <td>374081</td>\n",
       "      <td>0.999249</td>\n",
       "    </tr>\n",
       "    <tr>\n",
       "      <th>orig_case_no</th>\n",
       "      <td>374068</td>\n",
       "      <td>0.999215</td>\n",
       "    </tr>\n",
       "    <tr>\n",
       "      <th>recr_info_job_fair_to</th>\n",
       "      <td>372569</td>\n",
       "      <td>0.995211</td>\n",
       "    </tr>\n",
       "    <tr>\n",
       "      <th>recr_info_job_fair_from</th>\n",
       "      <td>372564</td>\n",
       "      <td>0.995197</td>\n",
       "    </tr>\n",
       "    <tr>\n",
       "      <th>recr_info_on_campus_recr_to</th>\n",
       "      <td>372497</td>\n",
       "      <td>0.995018</td>\n",
       "    </tr>\n",
       "    <tr>\n",
       "      <th>recr_info_on_campus_recr_from</th>\n",
       "      <td>372490</td>\n",
       "      <td>0.994999</td>\n",
       "    </tr>\n",
       "    <tr>\n",
       "      <th>ji_live_in_dom_svc_contract</th>\n",
       "      <td>371964</td>\n",
       "      <td>0.993594</td>\n",
       "    </tr>\n",
       "    <tr>\n",
       "      <th>foreign_worker_info_education_other</th>\n",
       "      <td>370422</td>\n",
       "      <td>0.989475</td>\n",
       "    </tr>\n",
       "    <tr>\n",
       "      <th>job_info_training_field</th>\n",
       "      <td>369868</td>\n",
       "      <td>0.987996</td>\n",
       "    </tr>\n",
       "    <tr>\n",
       "      <th>job_info_training_num_months</th>\n",
       "      <td>369583</td>\n",
       "      <td>0.987234</td>\n",
       "    </tr>\n",
       "    <tr>\n",
       "      <th>ri_coll_teach_select_date</th>\n",
       "      <td>368632</td>\n",
       "      <td>0.984694</td>\n",
       "    </tr>\n",
       "    <tr>\n",
       "      <th>ri_coll_tch_basic_process</th>\n",
       "      <td>367349</td>\n",
       "      <td>0.981267</td>\n",
       "    </tr>\n",
       "    <tr>\n",
       "      <th>recr_info_coll_teach_comp_proc</th>\n",
       "      <td>367341</td>\n",
       "      <td>0.981245</td>\n",
       "    </tr>\n",
       "    <tr>\n",
       "      <th>job_info_education_other</th>\n",
       "      <td>366593</td>\n",
       "      <td>0.979247</td>\n",
       "    </tr>\n",
       "    <tr>\n",
       "      <th>job_info_alt_combo_ed_other</th>\n",
       "      <td>365144</td>\n",
       "      <td>0.975377</td>\n",
       "    </tr>\n",
       "    <tr>\n",
       "      <th>recr_info_pro_org_advert_to</th>\n",
       "      <td>360292</td>\n",
       "      <td>0.962416</td>\n",
       "    </tr>\n",
       "    <tr>\n",
       "      <th>recr_info_pro_org_advert_from</th>\n",
       "      <td>360286</td>\n",
       "      <td>0.9624</td>\n",
       "    </tr>\n",
       "    <tr>\n",
       "      <th>pw_source_name_other_9089</th>\n",
       "      <td>358603</td>\n",
       "      <td>0.957904</td>\n",
       "    </tr>\n",
       "    <tr>\n",
       "      <th>ri_pvt_employment_firm_to</th>\n",
       "      <td>357922</td>\n",
       "      <td>0.956085</td>\n",
       "    </tr>\n",
       "    <tr>\n",
       "      <th>ri_pvt_employment_firm_from</th>\n",
       "      <td>357920</td>\n",
       "      <td>0.95608</td>\n",
       "    </tr>\n",
       "    <tr>\n",
       "      <th>ri_us_workers_considered</th>\n",
       "      <td>357129</td>\n",
       "      <td>0.953967</td>\n",
       "    </tr>\n",
       "    <tr>\n",
       "      <th>naics_2007_us_title</th>\n",
       "      <td>354462</td>\n",
       "      <td>0.946843</td>\n",
       "    </tr>\n",
       "    <tr>\n",
       "      <th>recr_info_radio_tv_ad_from</th>\n",
       "      <td>354009</td>\n",
       "      <td>0.945633</td>\n",
       "    </tr>\n",
       "    <tr>\n",
       "      <th>recr_info_radio_tv_ad_to</th>\n",
       "      <td>354008</td>\n",
       "      <td>0.94563</td>\n",
       "    </tr>\n",
       "    <tr>\n",
       "      <th>naics_2007_us_code</th>\n",
       "      <td>353846</td>\n",
       "      <td>0.945197</td>\n",
       "    </tr>\n",
       "    <tr>\n",
       "      <th>country_of_citzenship</th>\n",
       "      <td>353788</td>\n",
       "      <td>0.945042</td>\n",
       "    </tr>\n",
       "    <tr>\n",
       "      <th>employer_phone_ext</th>\n",
       "      <td>350901</td>\n",
       "      <td>0.937331</td>\n",
       "    </tr>\n",
       "    <tr>\n",
       "      <th>recr_info_prof_org_advert_to</th>\n",
       "      <td>346276</td>\n",
       "      <td>0.924976</td>\n",
       "    </tr>\n",
       "    <tr>\n",
       "      <th>recr_info_prof_org_advert_from</th>\n",
       "      <td>346269</td>\n",
       "      <td>0.924958</td>\n",
       "    </tr>\n",
       "    <tr>\n",
       "      <th>ri_campus_placement_to</th>\n",
       "      <td>344369</td>\n",
       "      <td>0.919882</td>\n",
       "    </tr>\n",
       "    <tr>\n",
       "      <th>...</th>\n",
       "      <td>...</td>\n",
       "      <td>...</td>\n",
       "    </tr>\n",
       "    <tr>\n",
       "      <th>schd_a_sheepherder</th>\n",
       "      <td>135288</td>\n",
       "      <td>0.361383</td>\n",
       "    </tr>\n",
       "    <tr>\n",
       "      <th>recr_info_professional_occ</th>\n",
       "      <td>135286</td>\n",
       "      <td>0.361377</td>\n",
       "    </tr>\n",
       "    <tr>\n",
       "      <th>job_info_foreign_lang_req</th>\n",
       "      <td>135286</td>\n",
       "      <td>0.361377</td>\n",
       "    </tr>\n",
       "    <tr>\n",
       "      <th>job_info_training</th>\n",
       "      <td>135284</td>\n",
       "      <td>0.361372</td>\n",
       "    </tr>\n",
       "    <tr>\n",
       "      <th>job_info_job_req_normal</th>\n",
       "      <td>135283</td>\n",
       "      <td>0.361369</td>\n",
       "    </tr>\n",
       "    <tr>\n",
       "      <th>job_info_education</th>\n",
       "      <td>135282</td>\n",
       "      <td>0.361367</td>\n",
       "    </tr>\n",
       "    <tr>\n",
       "      <th>ji_live_in_domestic_service</th>\n",
       "      <td>135282</td>\n",
       "      <td>0.361367</td>\n",
       "    </tr>\n",
       "    <tr>\n",
       "      <th>job_info_experience</th>\n",
       "      <td>135281</td>\n",
       "      <td>0.361364</td>\n",
       "    </tr>\n",
       "    <tr>\n",
       "      <th>job_info_combo_occupation</th>\n",
       "      <td>135279</td>\n",
       "      <td>0.361359</td>\n",
       "    </tr>\n",
       "    <tr>\n",
       "      <th>case_received_date</th>\n",
       "      <td>135271</td>\n",
       "      <td>0.361337</td>\n",
       "    </tr>\n",
       "    <tr>\n",
       "      <th>case_number</th>\n",
       "      <td>135269</td>\n",
       "      <td>0.361332</td>\n",
       "    </tr>\n",
       "    <tr>\n",
       "      <th>wage_offer_unit_of_pay_9089</th>\n",
       "      <td>115916</td>\n",
       "      <td>0.309636</td>\n",
       "    </tr>\n",
       "    <tr>\n",
       "      <th>wage_offer_from_9089</th>\n",
       "      <td>114771</td>\n",
       "      <td>0.306578</td>\n",
       "    </tr>\n",
       "    <tr>\n",
       "      <th>pw_level_9089</th>\n",
       "      <td>27627</td>\n",
       "      <td>0.0737976</td>\n",
       "    </tr>\n",
       "    <tr>\n",
       "      <th>class_of_admission</th>\n",
       "      <td>22845</td>\n",
       "      <td>0.0610238</td>\n",
       "    </tr>\n",
       "    <tr>\n",
       "      <th>country_of_citizenship</th>\n",
       "      <td>20633</td>\n",
       "      <td>0.0551151</td>\n",
       "    </tr>\n",
       "    <tr>\n",
       "      <th>pw_soc_title</th>\n",
       "      <td>2336</td>\n",
       "      <td>0.00623995</td>\n",
       "    </tr>\n",
       "    <tr>\n",
       "      <th>pw_amount_9089</th>\n",
       "      <td>2216</td>\n",
       "      <td>0.0059194</td>\n",
       "    </tr>\n",
       "    <tr>\n",
       "      <th>pw_source_name_9089</th>\n",
       "      <td>2099</td>\n",
       "      <td>0.00560687</td>\n",
       "    </tr>\n",
       "    <tr>\n",
       "      <th>pw_unit_of_pay_9089</th>\n",
       "      <td>1572</td>\n",
       "      <td>0.00419914</td>\n",
       "    </tr>\n",
       "    <tr>\n",
       "      <th>pw_soc_code</th>\n",
       "      <td>397</td>\n",
       "      <td>0.00106047</td>\n",
       "    </tr>\n",
       "    <tr>\n",
       "      <th>job_info_work_state</th>\n",
       "      <td>103</td>\n",
       "      <td>0.000275135</td>\n",
       "    </tr>\n",
       "    <tr>\n",
       "      <th>job_info_work_city</th>\n",
       "      <td>102</td>\n",
       "      <td>0.000272464</td>\n",
       "    </tr>\n",
       "    <tr>\n",
       "      <th>employer_state</th>\n",
       "      <td>42</td>\n",
       "      <td>0.000112191</td>\n",
       "    </tr>\n",
       "    <tr>\n",
       "      <th>employer_address_1</th>\n",
       "      <td>42</td>\n",
       "      <td>0.000112191</td>\n",
       "    </tr>\n",
       "    <tr>\n",
       "      <th>employer_postal_code</th>\n",
       "      <td>37</td>\n",
       "      <td>9.88348e-05</td>\n",
       "    </tr>\n",
       "    <tr>\n",
       "      <th>employer_city</th>\n",
       "      <td>14</td>\n",
       "      <td>3.7397e-05</td>\n",
       "    </tr>\n",
       "    <tr>\n",
       "      <th>employer_name</th>\n",
       "      <td>12</td>\n",
       "      <td>3.20545e-05</td>\n",
       "    </tr>\n",
       "    <tr>\n",
       "      <th>decision_date</th>\n",
       "      <td>0</td>\n",
       "      <td>0</td>\n",
       "    </tr>\n",
       "    <tr>\n",
       "      <th>case_status</th>\n",
       "      <td>0</td>\n",
       "      <td>0</td>\n",
       "    </tr>\n",
       "  </tbody>\n",
       "</table>\n",
       "<p>154 rows × 2 columns</p>\n",
       "</div>"
      ],
      "text/plain": [
       "                                    number_of_missing missing_ratio\n",
       "orig_file_date                                 374081      0.999249\n",
       "orig_case_no                                   374068      0.999215\n",
       "recr_info_job_fair_to                          372569      0.995211\n",
       "recr_info_job_fair_from                        372564      0.995197\n",
       "recr_info_on_campus_recr_to                    372497      0.995018\n",
       "recr_info_on_campus_recr_from                  372490      0.994999\n",
       "ji_live_in_dom_svc_contract                    371964      0.993594\n",
       "foreign_worker_info_education_other            370422      0.989475\n",
       "job_info_training_field                        369868      0.987996\n",
       "job_info_training_num_months                   369583      0.987234\n",
       "ri_coll_teach_select_date                      368632      0.984694\n",
       "ri_coll_tch_basic_process                      367349      0.981267\n",
       "recr_info_coll_teach_comp_proc                 367341      0.981245\n",
       "job_info_education_other                       366593      0.979247\n",
       "job_info_alt_combo_ed_other                    365144      0.975377\n",
       "recr_info_pro_org_advert_to                    360292      0.962416\n",
       "recr_info_pro_org_advert_from                  360286        0.9624\n",
       "pw_source_name_other_9089                      358603      0.957904\n",
       "ri_pvt_employment_firm_to                      357922      0.956085\n",
       "ri_pvt_employment_firm_from                    357920       0.95608\n",
       "ri_us_workers_considered                       357129      0.953967\n",
       "naics_2007_us_title                            354462      0.946843\n",
       "recr_info_radio_tv_ad_from                     354009      0.945633\n",
       "recr_info_radio_tv_ad_to                       354008       0.94563\n",
       "naics_2007_us_code                             353846      0.945197\n",
       "country_of_citzenship                          353788      0.945042\n",
       "employer_phone_ext                             350901      0.937331\n",
       "recr_info_prof_org_advert_to                   346276      0.924976\n",
       "recr_info_prof_org_advert_from                 346269      0.924958\n",
       "ri_campus_placement_to                         344369      0.919882\n",
       "...                                               ...           ...\n",
       "schd_a_sheepherder                             135288      0.361383\n",
       "recr_info_professional_occ                     135286      0.361377\n",
       "job_info_foreign_lang_req                      135286      0.361377\n",
       "job_info_training                              135284      0.361372\n",
       "job_info_job_req_normal                        135283      0.361369\n",
       "job_info_education                             135282      0.361367\n",
       "ji_live_in_domestic_service                    135282      0.361367\n",
       "job_info_experience                            135281      0.361364\n",
       "job_info_combo_occupation                      135279      0.361359\n",
       "case_received_date                             135271      0.361337\n",
       "case_number                                    135269      0.361332\n",
       "wage_offer_unit_of_pay_9089                    115916      0.309636\n",
       "wage_offer_from_9089                           114771      0.306578\n",
       "pw_level_9089                                   27627     0.0737976\n",
       "class_of_admission                              22845     0.0610238\n",
       "country_of_citizenship                          20633     0.0551151\n",
       "pw_soc_title                                     2336    0.00623995\n",
       "pw_amount_9089                                   2216     0.0059194\n",
       "pw_source_name_9089                              2099    0.00560687\n",
       "pw_unit_of_pay_9089                              1572    0.00419914\n",
       "pw_soc_code                                       397    0.00106047\n",
       "job_info_work_state                               103   0.000275135\n",
       "job_info_work_city                                102   0.000272464\n",
       "employer_state                                     42   0.000112191\n",
       "employer_address_1                                 42   0.000112191\n",
       "employer_postal_code                               37   9.88348e-05\n",
       "employer_city                                      14    3.7397e-05\n",
       "employer_name                                      12   3.20545e-05\n",
       "decision_date                                       0             0\n",
       "case_status                                         0             0\n",
       "\n",
       "[154 rows x 2 columns]"
      ]
     },
     "execution_count": 7,
     "metadata": {},
     "output_type": "execute_result"
    }
   ],
   "source": [
    "missing.sort_values(by= \"missing_ratio\" , axis=0, ascending= False, inplace= True)\n",
    "missing"
   ]
  },
  {
   "cell_type": "markdown",
   "metadata": {},
   "source": [
    "Ratios are very high. There is an abrupt decrease between wage_offer_from_9089 and and pw_level_9089. By eyeballing, we can decide 30% threshold value for missing value ratio (Practically, it is same with 7% since missing ratio of pw_level_9089 is 7%). <br>\n",
    "\n",
    "However, we should be cognizant of the fact that there might be some columns which have high ratio of missing values but might have useful information. If we scrutunize the list above, job_info_job_title, us_economic_sector, foreign_worker_info_education can be other important features."
   ]
  },
  {
   "cell_type": "code",
   "execution_count": 8,
   "metadata": {},
   "outputs": [
    {
     "name": "stdout",
     "output_type": "stream",
     "text": [
      "There are 137 columns which have more than 30% missing values\n"
     ]
    }
   ],
   "source": [
    "print(\"There are\", len(missing[missing[\"missing_ratio\"]>0.3]), \"columns which have more than 30% missing values\")"
   ]
  },
  {
   "cell_type": "code",
   "execution_count": 9,
   "metadata": {},
   "outputs": [
    {
     "data": {
      "text/plain": [
       "Index(['pw_level_9089', 'class_of_admission', 'country_of_citizenship',\n",
       "       'pw_soc_title', 'pw_amount_9089', 'pw_source_name_9089',\n",
       "       'pw_unit_of_pay_9089', 'pw_soc_code', 'job_info_work_state',\n",
       "       'job_info_work_city', 'employer_state', 'employer_address_1',\n",
       "       'employer_postal_code', 'employer_city', 'employer_name',\n",
       "       'decision_date', 'case_status'],\n",
       "      dtype='object')"
      ]
     },
     "execution_count": 9,
     "metadata": {},
     "output_type": "execute_result"
    }
   ],
   "source": [
    "## Retriving columns that have less than 30% missing value ratio. \n",
    "\n",
    "missing[missing[\"missing_ratio\"]<=0.3].index"
   ]
  },
  {
   "cell_type": "markdown",
   "metadata": {},
   "source": [
    "Though these columns have less than 30% missing value ratio, still there are columns that we can drop before exploratory data analysis (EDA). <br>\n",
    "\n",
    "We will analyze at employer_city and employer_state level so employer_address_1 and employer_postal_code would be too detailed. With that being said, we can also drop job_info_work_city and job_info_work_state. After EDA, we will drop employer_city and will classify the case results at state level. <br>\n",
    "\n",
    "It seems pw_soc_title and pw_soc_title are similare to job_in_job_title however they are more general and the latter is more specific job decription. We we will drop pw_soc_title and plot job_info_job_title however in the model, we will use pw_soc_code. <br>\n",
    "\n",
    "pw_source_name_9089 and pw_level_9089 columns are a technical information that we don't need. <br>\n",
    "A few decriptive information about columns whose names are not self-explanatory: pw_unit_of_pay_9089 is payroll period (hourly payment, monthly salary, annual salary etc). pw_amount_9089 is amount of salary but values have a wide range because of hourly payment vs annual salary. "
   ]
  },
  {
   "cell_type": "code",
   "execution_count": 10,
   "metadata": {
    "collapsed": true
   },
   "outputs": [],
   "source": [
    "## Data set we will analyze\n",
    "\n",
    "visa_treated = visa[[\"class_of_admission\", \"country_of_citizenship\", \"pw_amount_9089\", \n",
    "                      \"pw_unit_of_pay_9089\", \"pw_soc_code\", \"employer_state\", \"employer_city\", \n",
    "                      \"employer_name\", \"decision_date\", \"case_status\", \"job_info_job_title\", \n",
    "                      \"us_economic_sector\", \"foreign_worker_info_education\"]]"
   ]
  },
  {
   "cell_type": "code",
   "execution_count": 11,
   "metadata": {},
   "outputs": [
    {
     "name": "stdout",
     "output_type": "stream",
     "text": [
      "The original data set is  (374362, 154)  and the treated data set is  (374362, 13)\n"
     ]
    }
   ],
   "source": [
    "print(\"The original data set is \",visa.shape, \" and the treated data set is \",visa_treated.shape)"
   ]
  },
  {
   "cell_type": "markdown",
   "metadata": {},
   "source": [
    "###    1.2. Overview of cases:"
   ]
  },
  {
   "cell_type": "markdown",
   "metadata": {},
   "source": [
    "### 1.2.1. Case Results"
   ]
  },
  {
   "cell_type": "code",
   "execution_count": 12,
   "metadata": {},
   "outputs": [
    {
     "data": {
      "text/plain": [
       "Text(0.5,1,'Case Results')"
      ]
     },
     "execution_count": 12,
     "metadata": {},
     "output_type": "execute_result"
    },
    {
     "data": {
      "image/png": "[encoded data removed]",
      "text/plain": [
       "<matplotlib.figure.Figure at 0x25ca17e22b0>"
      ]
     },
     "metadata": {},
     "output_type": "display_data"
    }
   ],
   "source": [
    "plt.subplots(figsize= (10,6))\n",
    "sns.countplot(x=visa_treated[\"case_status\"], order=[\"Certified\", \"Certified-Expired\", \"Denied\", \"Withdrawn\"])\n",
    "plt.xlabel(\"Case Results\")\n",
    "plt.ylabel(\"Number of Cases\")\n",
    "plt.title(\"Case Results\")"
   ]
  },
  {
   "cell_type": "markdown",
   "metadata": {},
   "source": [
    "Let's start with good news! More than half of cases are approved. Even if we consider certified-expired status, which means approval but necessity for extra documentation, people are more likely to get approval for permenant visa. "
   ]
  },
  {
   "cell_type": "markdown",
   "metadata": {},
   "source": [
    "### 1.2.2. Applications in Years"
   ]
  },
  {
   "cell_type": "code",
   "execution_count": 13,
   "metadata": {},
   "outputs": [
    {
     "data": {
      "text/plain": [
       "Text(0.5,1,'Number of Cases Between 2012 and 2016')"
      ]
     },
     "execution_count": 13,
     "metadata": {},
     "output_type": "execute_result"
    },
    {
     "data": {
      "image/png": "[encoded data removed]",
      "text/plain": [
       "<matplotlib.figure.Figure at 0x25ca17d6d30>"
      ]
     },
     "metadata": {},
     "output_type": "display_data"
    }
   ],
   "source": [
    "# Retreiving year from decision_date and plotting case status between 2012 and 2016\n",
    "visa_treated['decision_year'] = visa_treated['decision_date'].dt.year\n",
    "\n",
    "plt.subplots(figsize=(15,7))\n",
    "sns.countplot(x=visa_treated[\"decision_year\"], hue=visa_treated[\"case_status\"])\n",
    "plt.xlabel(\"Decision Year\")\n",
    "plt.ylabel(\"Number of Cases\")\n",
    "plt.title(\"Number of Cases Between 2012 and 2016\")"
   ]
  },
  {
   "cell_type": "markdown",
   "metadata": {},
   "source": [
    "Good news, again! Time is favorable for us. Number of certified case is increasing every year."
   ]
  },
  {
   "cell_type": "markdown",
   "metadata": {},
   "source": [
    "### 1.2.3. Visa Types"
   ]
  },
  {
   "cell_type": "code",
   "execution_count": 14,
   "metadata": {
    "collapsed": true,
    "scrolled": true
   },
   "outputs": [],
   "source": [
    "visa_treated[\"dummy\"]= 1\n",
    "visa_class1 = visa_treated.groupby([\"class_of_admission\"], as_index= True).sum()"
   ]
  },
  {
   "cell_type": "code",
   "execution_count": 15,
   "metadata": {},
   "outputs": [
    {
     "data": {
      "text/plain": [
       "<matplotlib.axes._subplots.AxesSubplot at 0x25c807a5080>"
      ]
     },
     "execution_count": 15,
     "metadata": {},
     "output_type": "execute_result"
    },
    {
     "data": {
      "image/png": "[encoded data removed]",
      "text/plain": [
       "<matplotlib.figure.Figure at 0x25c807b60b8>"
      ]
     },
     "metadata": {},
     "output_type": "display_data"
    }
   ],
   "source": [
    "plt.subplots(figsize= (10,5))\n",
    "visa_class1.sort_values(by=\"dummy\", axis=0, ascending=False).head(10)[\"dummy\"].plot(kind=\"bar\", title= \"Visa Types\")"
   ]
  },
  {
   "cell_type": "markdown",
   "metadata": {},
   "source": [
    "Permanent visa applicants are usually H-1B visa-holders.\n",
    "Let's see case status for it."
   ]
  },
  {
   "cell_type": "markdown",
   "metadata": {},
   "source": [
    "### 1.2.4. H-1B"
   ]
  },
  {
   "cell_type": "code",
   "execution_count": 16,
   "metadata": {},
   "outputs": [
    {
     "data": {
      "text/plain": [
       "Text(0.5,1,'Case Status in H-1B')"
      ]
     },
     "execution_count": 16,
     "metadata": {},
     "output_type": "execute_result"
    },
    {
     "data": {
      "image/png": "[encoded data removed]",
      "text/plain": [
       "<matplotlib.figure.Figure at 0x25c8081f438>"
      ]
     },
     "metadata": {},
     "output_type": "display_data"
    }
   ],
   "source": [
    "plt.figure(figsize=(10,5))\n",
    "\n",
    "sns.countplot(visa_treated[visa_treated[\"class_of_admission\"] == \"H-1B\"][\"case_status\"])\n",
    "\n",
    "plt.xlabel(\"Number of Cases\")\n",
    "plt.ylabel(\"Case Status\")\n",
    "plt.title(\"Case Status in H-1B\")"
   ]
  },
  {
   "cell_type": "markdown",
   "metadata": {},
   "source": [
    "H-1B has a small number of denied cases."
   ]
  },
  {
   "cell_type": "markdown",
   "metadata": {},
   "source": [
    "## 1.3. General Information"
   ]
  },
  {
   "cell_type": "markdown",
   "metadata": {},
   "source": [
    "### 1.3.1. States"
   ]
  },
  {
   "cell_type": "code",
   "execution_count": 17,
   "metadata": {
    "collapsed": true
   },
   "outputs": [],
   "source": [
    "## Since employer_state has short and long version of state name, i.e. CA and CALIFORNIA, we will use long version.\n",
    "\n",
    "states = {'AL':'ALABAMA',\n",
    "                   'AK':'ALASKA',\n",
    "                   'AZ':'ARIZONA',\n",
    "                   'AR':'ARKANSAS',\n",
    "                   'CA':'CALIFORNIA',\n",
    "                   'CO':'COLORADO',\n",
    "                   'CT':'CONNECTICUT',\n",
    "                   'DE':'DELAWARE',\n",
    "                   'DC':'DISTRICT OF COLUMBIA',\n",
    "                   'FL':'FLORIDA', \n",
    "                   'GA':'GEORGIA',\n",
    "                   'HI':'HAWAII',\n",
    "                   'ID':'IDAHO',\n",
    "                   'IL':'ILLINOIS',\n",
    "                   'IN':'INDIANA',\n",
    "                   'IA':'IOWA',\n",
    "                   'KS':'KANSAS',\n",
    "                   'KY':'KENTUCKY',\n",
    "                   'LA':'LOUISIANA',\n",
    "                   'ME':'MAINE',\n",
    "                   'MD':'MARYLAND',\n",
    "                   'MA':'MASSACHUSETTS',\n",
    "                   'MI':'MICHIGAN',\n",
    "                   'MN':'MINNESOTA',\n",
    "                   'MS':'MISSISSIPPI',\n",
    "                   'MO':'MISSOURI',\n",
    "                   'MT':'MONTANA',\n",
    "                   'NE':'NEBRASKA',\n",
    "                   'NV':'NEVADA',\n",
    "                   'NH':'NEW HAMPSHIRE',\n",
    "                   'NJ':'NEW JERSEY',\n",
    "                   'NM':'NEW MEXICO',\n",
    "                   'NY':'NEW YORK',\n",
    "                   'NC':'NORTH CAROLINA',\n",
    "                   'ND':'NORTH DAKOTA',\n",
    "                   'OH':'OHIO',\n",
    "                   'OK':'OKLAHOMA',\n",
    "                   'OR':'OREGON',\n",
    "                   'PA':'PENNSYLVANIA',\n",
    "                   'RI':'RHODE ISLAND',\n",
    "                   'SC':'SOUTH CAROLINA',\n",
    "                   'SD':'SOUTH DAKOTA',\n",
    "                   'TN':'TENNESSEE',\n",
    "                   'TX':'TEXAS',\n",
    "                   'UT':'UTAH',\n",
    "                   'VT':'VERMONT',\n",
    "                   'VI':'VIRGIN ISLANDS',\n",
    "                   'VA':'VIRGINIA',\n",
    "                   'WA':'WASHINGTON',\n",
    "                   'WV':'WEST VIRGINIA',\n",
    "                   'WI':'WISCONSIN',\n",
    "                   'WY':'WYOMING' }\n",
    "\n",
    "##visa_treated[\"employer_state\"] = visa_treated[\"employer_state\"].str.strip\n",
    "visa_treated[\"employer_state\"] = visa_treated[\"employer_state\"].str.upper().map(states)"
   ]
  },
  {
   "cell_type": "code",
   "execution_count": 18,
   "metadata": {
    "collapsed": true
   },
   "outputs": [],
   "source": [
    "## Checking whether there is short version of states left.\n",
    "## visa_treated[\"employer_state\"].unique()"
   ]
  },
  {
   "cell_type": "code",
   "execution_count": 19,
   "metadata": {},
   "outputs": [
    {
     "data": {
      "text/plain": [
       "Text(0.5,1,'Number of Applications in States')"
      ]
     },
     "execution_count": 19,
     "metadata": {},
     "output_type": "execute_result"
    },
    {
     "data": {
      "image/png": "[encoded data removed]",
      "text/plain": [
       "<matplotlib.figure.Figure at 0x25c8089d1d0>"
      ]
     },
     "metadata": {},
     "output_type": "display_data"
    }
   ],
   "source": [
    "top_15_state = visa_treated[\"employer_state\"].value_counts().head(40)\n",
    "\n",
    "plt.subplots(figsize= (17,6))\n",
    "top_15_state.plot(kind=\"bar\")\n",
    "plt.xlabel(\"State\")\n",
    "plt.ylabel(\"Number of Cases\")\n",
    "plt.title(\"Number of Applications in States\")"
   ]
  },
  {
   "cell_type": "code",
   "execution_count": 20,
   "metadata": {
    "collapsed": true
   },
   "outputs": [],
   "source": [
    "##certified = visa_treated[visa_treated[\"case_status\"] == \"Certified\"]\n",
    "##denied = visa_treated[visa_treated[\"case_status\"] == \"Denied\"]"
   ]
  },
  {
   "cell_type": "code",
   "execution_count": 21,
   "metadata": {},
   "outputs": [
    {
     "data": {
      "text/plain": [
       "Text(0.5,1,'Certified Cases in States')"
      ]
     },
     "execution_count": 21,
     "metadata": {},
     "output_type": "execute_result"
    },
    {
     "data": {
      "image/png": "[encoded data removed]",
      "text/plain": [
       "<matplotlib.figure.Figure at 0x25c80ec3860>"
      ]
     },
     "metadata": {},
     "output_type": "display_data"
    }
   ],
   "source": [
    "##Certified Cases in States\n",
    "\n",
    "plt.subplots(figsize= (17,8))\n",
    "ax = sns.countplot(visa_treated[\"employer_state\"][visa_treated[\"case_status\"] == \"Certified\"],\n",
    "                   order = visa_treated[\"employer_state\"][visa_treated[\"case_status\"] == \"Certified\"].value_counts().index)\n",
    "ax.set_xticklabels(ax.get_xticklabels(), rotation=40, ha=\"right\")\n",
    "plt.xlabel(\"State\")\n",
    "plt.ylabel(\"Certified Cases\")\n",
    "plt.title(\"Certified Cases in States\")"
   ]
  },
  {
   "cell_type": "code",
   "execution_count": 22,
   "metadata": {},
   "outputs": [
    {
     "data": {
      "text/plain": [
       "Text(0.5,1,'Denied Cases in States')"
      ]
     },
     "execution_count": 22,
     "metadata": {},
     "output_type": "execute_result"
    },
    {
     "data": {
      "image/png": "[encoded data removed]",
      "text/plain": [
       "<matplotlib.figure.Figure at 0x25c808e6978>"
      ]
     },
     "metadata": {},
     "output_type": "display_data"
    }
   ],
   "source": [
    "plt.subplots(figsize= (17,8))\n",
    "ax = sns.countplot(visa_treated[\"employer_state\"][visa_treated[\"case_status\"] == \"Denied\"],\n",
    "                   order = visa_treated[\"employer_state\"][visa_treated[\"case_status\"] == \"Denied\"].value_counts().index)\n",
    "ax.set_xticklabels(ax.get_xticklabels(), rotation=40, ha=\"right\")\n",
    "\n",
    "plt.xlabel(\"State\")\n",
    "plt.ylabel(\"Denied Cases\")\n",
    "plt.title(\"Denied Cases in States\")"
   ]
  },
  {
   "cell_type": "code",
   "execution_count": 23,
   "metadata": {},
   "outputs": [
    {
     "data": {
      "text/html": [
       "<div>\n",
       "<style>\n",
       "    .dataframe thead tr:only-child th {\n",
       "        text-align: right;\n",
       "    }\n",
       "\n",
       "    .dataframe thead th {\n",
       "        text-align: left;\n",
       "    }\n",
       "\n",
       "    .dataframe tbody tr th {\n",
       "        vertical-align: top;\n",
       "    }\n",
       "</style>\n",
       "<table border=\"1\" class=\"dataframe\">\n",
       "  <thead>\n",
       "    <tr style=\"text-align: right;\">\n",
       "      <th></th>\n",
       "      <th>employer_state</th>\n",
       "      <th>case_status</th>\n",
       "      <th>decision_year</th>\n",
       "      <th>dummy</th>\n",
       "    </tr>\n",
       "  </thead>\n",
       "  <tbody>\n",
       "    <tr>\n",
       "      <th>0</th>\n",
       "      <td>ALABAMA</td>\n",
       "      <td>Certified</td>\n",
       "      <td>870659</td>\n",
       "      <td>432</td>\n",
       "    </tr>\n",
       "    <tr>\n",
       "      <th>1</th>\n",
       "      <td>ALABAMA</td>\n",
       "      <td>Certified-Expired</td>\n",
       "      <td>596476</td>\n",
       "      <td>296</td>\n",
       "    </tr>\n",
       "    <tr>\n",
       "      <th>2</th>\n",
       "      <td>ALABAMA</td>\n",
       "      <td>Denied</td>\n",
       "      <td>141059</td>\n",
       "      <td>70</td>\n",
       "    </tr>\n",
       "    <tr>\n",
       "      <th>3</th>\n",
       "      <td>ALABAMA</td>\n",
       "      <td>Withdrawn</td>\n",
       "      <td>50366</td>\n",
       "      <td>25</td>\n",
       "    </tr>\n",
       "    <tr>\n",
       "      <th>4</th>\n",
       "      <td>ALASKA</td>\n",
       "      <td>Certified</td>\n",
       "      <td>58429</td>\n",
       "      <td>29</td>\n",
       "    </tr>\n",
       "  </tbody>\n",
       "</table>\n",
       "</div>"
      ],
      "text/plain": [
       "  employer_state        case_status  decision_year  dummy\n",
       "0        ALABAMA          Certified         870659    432\n",
       "1        ALABAMA  Certified-Expired         596476    296\n",
       "2        ALABAMA             Denied         141059     70\n",
       "3        ALABAMA          Withdrawn          50366     25\n",
       "4         ALASKA          Certified          58429     29"
      ]
     },
     "execution_count": 23,
     "metadata": {},
     "output_type": "execute_result"
    }
   ],
   "source": [
    "visa_class2 = visa_treated.groupby([\"employer_state\",\"case_status\"], as_index= False).sum()\n",
    "visa_class2.head()"
   ]
  },
  {
   "cell_type": "code",
   "execution_count": 24,
   "metadata": {},
   "outputs": [
    {
     "data": {
      "text/html": [
       "<div>\n",
       "<style>\n",
       "    .dataframe thead tr:only-child th {\n",
       "        text-align: right;\n",
       "    }\n",
       "\n",
       "    .dataframe thead th {\n",
       "        text-align: left;\n",
       "    }\n",
       "\n",
       "    .dataframe tbody tr th {\n",
       "        vertical-align: top;\n",
       "    }\n",
       "</style>\n",
       "<table border=\"1\" class=\"dataframe\">\n",
       "  <thead>\n",
       "    <tr style=\"text-align: right;\">\n",
       "      <th></th>\n",
       "      <th>Certified</th>\n",
       "      <th>Denied</th>\n",
       "      <th>Ratio</th>\n",
       "    </tr>\n",
       "  </thead>\n",
       "  <tbody>\n",
       "    <tr>\n",
       "      <th>ALABAMA</th>\n",
       "      <td>432</td>\n",
       "      <td>70</td>\n",
       "      <td>6.171429</td>\n",
       "    </tr>\n",
       "    <tr>\n",
       "      <th>ALASKA</th>\n",
       "      <td>29</td>\n",
       "      <td>3</td>\n",
       "      <td>9.666667</td>\n",
       "    </tr>\n",
       "    <tr>\n",
       "      <th>ARIZONA</th>\n",
       "      <td>744</td>\n",
       "      <td>142</td>\n",
       "      <td>5.239437</td>\n",
       "    </tr>\n",
       "    <tr>\n",
       "      <th>ARKANSAS</th>\n",
       "      <td>445</td>\n",
       "      <td>84</td>\n",
       "      <td>5.297619</td>\n",
       "    </tr>\n",
       "    <tr>\n",
       "      <th>CALIFORNIA</th>\n",
       "      <td>23602</td>\n",
       "      <td>1967</td>\n",
       "      <td>11.998983</td>\n",
       "    </tr>\n",
       "  </tbody>\n",
       "</table>\n",
       "</div>"
      ],
      "text/plain": [
       "            Certified  Denied      Ratio\n",
       "ALABAMA           432      70   6.171429\n",
       "ALASKA             29       3   9.666667\n",
       "ARIZONA           744     142   5.239437\n",
       "ARKANSAS          445      84   5.297619\n",
       "CALIFORNIA      23602    1967  11.998983"
      ]
     },
     "execution_count": 24,
     "metadata": {},
     "output_type": "execute_result"
    }
   ],
   "source": [
    "## Checking Certified/Denied ratio in states\n",
    "\n",
    "\n",
    "status_in_states=pd.DataFrame(0,index=visa_class2[\"employer_state\"].unique(), columns=[\"Certified\",\"Denied\"])\n",
    "\n",
    "for state in visa_class2[\"employer_state\"].unique():\n",
    "    status_in_states.loc[state][\"Certified\"] = visa_class2[(visa_class2[\"employer_state\"] == state) & (visa_class2[\"case_status\"] == \"Certified\")][\"dummy\"]\n",
    "    status_in_states.loc[state][\"Denied\"] = visa_class2[(visa_class2[\"employer_state\"] == state) & (visa_class2[\"case_status\"] == \"Denied\")][\"dummy\"]\n",
    "    \n",
    "status_in_states[\"Ratio\"] = list(map(lambda x,y: x/y, status_in_states[\"Certified\"],status_in_states[\"Denied\"]))\n",
    "\n",
    "status_in_states.head()"
   ]
  },
  {
   "cell_type": "code",
   "execution_count": 25,
   "metadata": {},
   "outputs": [
    {
     "data": {
      "text/plain": [
       "Text(0.5,1,'Certified/Denied Ratio in 40 States')"
      ]
     },
     "execution_count": 25,
     "metadata": {},
     "output_type": "execute_result"
    },
    {
     "data": {
      "image/png": "[encoded data removed]",
      "text/plain": [
       "<matplotlib.figure.Figure at 0x25c80fbfb38>"
      ]
     },
     "metadata": {},
     "output_type": "display_data"
    }
   ],
   "source": [
    "plt.figure(figsize=(15,5))\n",
    "\n",
    "status_in_states.sort_values(by=\"Ratio\", axis=0, ascending=False).head(40)[\"Ratio\"].plot(kind=\"bar\")\n",
    "plt.xlabel(\"States\")\n",
    "plt.ylabel(\"Ratio\")\n",
    "plt.title(\"Certified/Denied Ratio in 40 States\")"
   ]
  },
  {
   "cell_type": "markdown",
   "metadata": {},
   "source": [
    "Ratios should be interpreted carefully. There are many applications in Washington and Massachusetts so ratios give reasonable results. However; South Dakota, Rhode Island and Indiana have few applications so it is better to be cognizant to interpret ratios of those states."
   ]
  },
  {
   "cell_type": "markdown",
   "metadata": {},
   "source": [
    "### 1.3.2. Cities"
   ]
  },
  {
   "cell_type": "code",
   "execution_count": 26,
   "metadata": {},
   "outputs": [
    {
     "data": {
      "text/plain": [
       "Text(0.5,1,'Number of Cases for Cities')"
      ]
     },
     "execution_count": 26,
     "metadata": {},
     "output_type": "execute_result"
    },
    {
     "data": {
      "image/png": "[encoded data removed]",
      "text/plain": [
       "<matplotlib.figure.Figure at 0x25c80faa1d0>"
      ]
     },
     "metadata": {},
     "output_type": "display_data"
    }
   ],
   "source": [
    "visa_treated[\"employer_city\"] = visa_treated[\"employer_city\"].str.upper()\n",
    "\n",
    "plt.figure(figsize=(15,7))\n",
    "visa_treated[\"employer_city\"].value_counts().head(15).plot(kind=\"bar\")\n",
    "plt.xlabel(\"City\")\n",
    "plt.ylabel(\"Number of Cases\")\n",
    "plt.title(\"Number of Cases for Cities\")\n",
    "\n",
    "## Try to use world map"
   ]
  },
  {
   "cell_type": "markdown",
   "metadata": {},
   "source": [
    "Though number one is New York, California (Santa Clara, San Jose, Redmond, Mountain View, San Francisco, Sunnyvale, Los Angeles) and Texas (College Station, Houston, Plano, Dallas) are dominant in the list. \n",
    "Remember that New Jersey was in the high rank, that is why we see Edison in this list."
   ]
  },
  {
   "cell_type": "markdown",
   "metadata": {},
   "source": [
    "### 1.3.3. Sectors"
   ]
  },
  {
   "cell_type": "code",
   "execution_count": 27,
   "metadata": {
    "collapsed": true
   },
   "outputs": [],
   "source": [
    "## Analyzing top 15 sectos\n",
    "\n",
    "top_15_sectors = visa_treated[\"us_economic_sector\"].value_counts().head(15)\n",
    "top_15_sectors_certified = visa_treated[\"us_economic_sector\"][visa_treated[\"case_status\"] == \"Certified\"].value_counts().head(15)\n",
    "top_15_sectors_denied = visa_treated[\"us_economic_sector\"][visa_treated[\"case_status\"] == \"Denied\"].value_counts().head(15)\n",
    "top_15_sectors_withdrawn = visa_treated[\"us_economic_sector\"][visa_treated[\"case_status\"] == \"Withdrawn\"].value_counts().head(15)"
   ]
  },
  {
   "cell_type": "code",
   "execution_count": 28,
   "metadata": {},
   "outputs": [
    {
     "data": {
      "image/png": "[encoded data removed]",
      "text/plain": [
       "<matplotlib.figure.Figure at 0x25c81b1b080>"
      ]
     },
     "metadata": {},
     "output_type": "display_data"
    }
   ],
   "source": [
    "## Y-axis of \"Certified\", \"Withdrawn\" and \"Denied\" graphs are limited by 25.000 so that we can also visually compare them. \n",
    "\n",
    "plt.subplots(figsize=(17,9))\n",
    "\n",
    "plt.subplot(221)\n",
    "top_15_sectors.plot(kind=\"bar\")\n",
    "plt.xlabel(\"Sectors\")\n",
    "plt.ylabel(\"Number of Cases\")\n",
    "plt.title(\"Top 15 Sectors - Total Application\")\n",
    "plt.grid(True)\n",
    "\n",
    "plt.subplot(222)\n",
    "top_15_sectors_certified.plot(kind=\"bar\")\n",
    "plt.xlabel(\"Sectors\")\n",
    "plt.ylabel(\"Number of Cases\")\n",
    "plt.title(\"Top 15 Sectors - Certified\")\n",
    "plt.ylim(0,25000)\n",
    "plt.grid(True)\n",
    "\n",
    "plt.subplot(223)\n",
    "top_15_sectors_withdrawn.plot(kind=\"bar\")\n",
    "plt.xlabel(\"Sectors\")\n",
    "plt.ylabel(\"Number of Cases\")\n",
    "plt.title(\"Top 15 Sectors - Withdrawn\")\n",
    "plt.ylim(0,25000)\n",
    "plt.grid(True)\n",
    "\n",
    "plt.subplot(224)\n",
    "top_15_sectors_denied.plot(kind=\"bar\")\n",
    "plt.xlabel(\"Sectors\")\n",
    "plt.ylabel(\"Number of Cases\")\n",
    "plt.title(\"Top 15 Sectors - Denied\")\n",
    "plt.ylim(0,25000)\n",
    "plt.grid(True)\n",
    "\n",
    "plt.tight_layout()"
   ]
  },
  {
   "cell_type": "markdown",
   "metadata": {},
   "source": [
    "As expected, IT is the number one. "
   ]
  },
  {
   "cell_type": "markdown",
   "metadata": {},
   "source": [
    "### 1.3.4. Companies"
   ]
  },
  {
   "cell_type": "code",
   "execution_count": 29,
   "metadata": {},
   "outputs": [
    {
     "data": {
      "text/plain": [
       "Text(0.5,1,'Top 15 H1B Applicant Company')"
      ]
     },
     "execution_count": 29,
     "metadata": {},
     "output_type": "execute_result"
    },
    {
     "data": {
      "image/png": "[encoded data removed]",
      "text/plain": [
       "<matplotlib.figure.Figure at 0x25c8107f390>"
      ]
     },
     "metadata": {},
     "output_type": "display_data"
    }
   ],
   "source": [
    "visa_treated[\"employer_name\"].value_counts().iloc[:15].plot(kind=\"barh\", figsize=(15,7), facecolor='#AA0000').invert_yaxis()\n",
    "plt.title(\"Top 15 H1B Applicant Company\")"
   ]
  },
  {
   "cell_type": "markdown",
   "metadata": {
    "collapsed": true
   },
   "source": [
    "This is an interesting insight! Cognizant Technology Solution US Corporation is the number one. \n",
    "We expected a company in California, not in Texas. Yet, this discovery is consistent with that Texas is the second state. <br>\n",
    "\n",
    "No wonder why College Station is the second city, in the city level analysis. Headquarter of Cognizant Technology Solution US Corporation is College Station, TX."
   ]
  },
  {
   "cell_type": "markdown",
   "metadata": {},
   "source": [
    "## 1.4. Applicants"
   ]
  },
  {
   "cell_type": "markdown",
   "metadata": {},
   "source": [
    "### 1.4.1. Citizenship"
   ]
  },
  {
   "cell_type": "code",
   "execution_count": 30,
   "metadata": {},
   "outputs": [
    {
     "data": {
      "text/plain": [
       "Text(0.5,1,'Citizenship of Applicants')"
      ]
     },
     "execution_count": 30,
     "metadata": {},
     "output_type": "execute_result"
    },
    {
     "data": {
      "image/png": "[encoded data removed]",
      "text/plain": [
       "<matplotlib.figure.Figure at 0x25c81b1bba8>"
      ]
     },
     "metadata": {},
     "output_type": "display_data"
    }
   ],
   "source": [
    "top_15_countries = visa_treated[\"country_of_citizenship\"].value_counts().head(15)\n",
    "\n",
    "plt.subplots(figsize= (12,5))\n",
    "top_15_countries.plot(kind=\"bar\")\n",
    "plt.xlabel(\"Countries\")\n",
    "plt.ylabel(\"Number of Cases\")\n",
    "plt.title(\"Citizenship of Applicants\")"
   ]
  },
  {
   "cell_type": "markdown",
   "metadata": {},
   "source": [
    "India and China are expected to be number one and number two. However, it is surprising that India is way ahead of other states. \n",
    "People who get permenant visa are usually from East Asia. UK and France are the only countries from Europe. There is no African country in the list. "
   ]
  },
  {
   "cell_type": "code",
   "execution_count": 31,
   "metadata": {},
   "outputs": [
    {
     "data": {
      "image/png": "[encoded data removed]",
      "text/plain": [
       "<matplotlib.figure.Figure at 0x25c810196a0>"
      ]
     },
     "metadata": {},
     "output_type": "display_data"
    }
   ],
   "source": [
    "top_15_countries_certified = visa_treated[\"country_of_citizenship\"][visa_treated[\"case_status\"] == \"Certified\"].value_counts().head(15)\n",
    "top_15_countries_denied = visa_treated[\"country_of_citizenship\"][visa_treated[\"case_status\"] == \"Denied\"].value_counts().head(15)\n",
    "\n",
    "fig, (ax1, ax2) = plt.subplots(figsize= (15,7), nrows=2, ncols=1)\n",
    "\n",
    "top_15_countries_certified.plot(kind=\"bar\", ax=ax1, title=\"Citizenship vs Number of Certified Cases\")\n",
    "top_15_countries_denied.plot(kind=\"bar\", ax=ax2, title=\"Citizenship vs Number of Denied Cases\")\n",
    "\n",
    "plt.tight_layout()"
   ]
  },
  {
   "cell_type": "markdown",
   "metadata": {},
   "source": [
    "### 1.4.2. Education"
   ]
  },
  {
   "cell_type": "code",
   "execution_count": 32,
   "metadata": {},
   "outputs": [
    {
     "data": {
      "text/plain": [
       "array([nan, \"Bachelor's\", 'None', 'Doctorate', \"Master's\", 'Other',\n",
       "       'High School', \"Associate's\"], dtype=object)"
      ]
     },
     "execution_count": 32,
     "metadata": {},
     "output_type": "execute_result"
    }
   ],
   "source": [
    "## Checking unique education information\n",
    "visa_treated[\"foreign_worker_info_education\"].unique()"
   ]
  },
  {
   "cell_type": "code",
   "execution_count": 33,
   "metadata": {
    "collapsed": true
   },
   "outputs": [],
   "source": [
    "visa_treated[\"foreign_worker_info_education\"].fillna(value= \"None\", inplace=True)"
   ]
  },
  {
   "cell_type": "code",
   "execution_count": 34,
   "metadata": {},
   "outputs": [
    {
     "data": {
      "text/plain": [
       "Text(0.5,1,'Education Information')"
      ]
     },
     "execution_count": 34,
     "metadata": {},
     "output_type": "execute_result"
    },
    {
     "data": {
      "image/png": "[encoded data removed]",
      "text/plain": [
       "<matplotlib.figure.Figure at 0x25c81c7ca58>"
      ]
     },
     "metadata": {},
     "output_type": "display_data"
    }
   ],
   "source": [
    "plt.subplots(figsize=(10,7))\n",
    "sns.countplot(x=visa_treated[visa_treated[\"foreign_worker_info_education\"] != \"None\"][\"foreign_worker_info_education\"], \n",
    "              order=[\"Master's\",\"Bachelor's\",\"Doctorate\",\"Other\",\"High School\",\"Associate's\"])\n",
    "plt.xlabel(\"Degree\")\n",
    "plt.ylabel(\"Number of Application\")\n",
    "plt.title(\"Education Information\")"
   ]
  },
  {
   "cell_type": "markdown",
   "metadata": {},
   "source": [
    "### 1.4.3. Titles"
   ]
  },
  {
   "cell_type": "markdown",
   "metadata": {},
   "source": [
    "Because of capital letters, hypens, spaces etc. in job titles, job_info_job_title column should be treated."
   ]
  },
  {
   "cell_type": "code",
   "execution_count": 35,
   "metadata": {
    "collapsed": true
   },
   "outputs": [],
   "source": [
    "visa[\"job_info_job_title\"] = visa_treated[\"job_info_job_title\"].str.lower()\n",
    "visa[\"job_info_job_title\"] = visa_treated[\"job_info_job_title\"].str.replace(\"sr.\", \"\")\n",
    "visa[\"job_info_job_title\"] = visa_treated[\"job_info_job_title\"].str.replace(\"sr\", \"\")\n",
    "visa[\"job_info_job_title\"] = visa_treated[\"job_info_job_title\"].str.replace(\"senior\", \"\")\n",
    "visa[\"job_info_job_title\"] = visa_treated[\"job_info_job_title\"].str.replace(\"Senior\", \"\")\n",
    "visa[\"job_info_job_title\"] = visa_treated[\"job_info_job_title\"].str.replace(\"-\", \"\") \n",
    "visa[\"job_info_job_title\"] = visa_treated[\"job_info_job_title\"].str.replace(\",\", \" \") "
   ]
  },
  {
   "cell_type": "code",
   "execution_count": 36,
   "metadata": {
    "collapsed": true
   },
   "outputs": [],
   "source": [
    "top_15_job_titles = visa_treated[\"job_info_job_title\"].value_counts().head(15)\n",
    "top_15_job_titles_certified = visa_treated[\"job_info_job_title\"][visa_treated[\"case_status\"] == \"Certified\"].value_counts().head(15)\n",
    "top_15_job_titles_denied = visa_treated[\"job_info_job_title\"][visa_treated[\"case_status\"] == \"Denied\"].value_counts().head(15)\n",
    "top_15_job_titles_withdrawn = visa_treated[\"job_info_job_title\"][visa_treated[\"case_status\"] == \"Withdrawn\"].value_counts().head(15)"
   ]
  },
  {
   "cell_type": "code",
   "execution_count": 37,
   "metadata": {},
   "outputs": [
    {
     "data": {
      "image/png": "[encoded data removed]",
      "text/plain": [
       "<matplotlib.figure.Figure at 0x25c83e15f98>"
      ]
     },
     "metadata": {},
     "output_type": "display_data"
    }
   ],
   "source": [
    "## Y-axis of \"Certified\", \"Withdrawn\" and \"Denied\" graphs are limited by 25.000 so that we can also visually compare them. \n",
    "\n",
    "plt.figure(figsize=(13,15))\n",
    "\n",
    "plt.subplot(221)\n",
    "top_15_job_titles.plot(kind=\"bar\")\n",
    "plt.xlabel(\"Job Titles\")\n",
    "plt.ylabel(\"Number of Cases\")\n",
    "plt.title(\"Top 15 Job Title - Total Application\")\n",
    "plt.grid(True)\n",
    "\n",
    "plt.subplot(222)\n",
    "top_15_job_titles_certified.plot(kind=\"bar\")\n",
    "plt.xlabel(\"Job Titles\")\n",
    "plt.ylabel(\"Number of Cases\")\n",
    "plt.title(\"Top 15 Titles - Certified\")\n",
    "plt.ylim(0,10000)\n",
    "plt.grid(True)\n",
    "\n",
    "plt.subplot(223)\n",
    "top_15_job_titles_withdrawn.plot(kind=\"bar\")\n",
    "plt.xlabel(\"Job Titles\")\n",
    "plt.ylabel(\"Number of Cases\")\n",
    "plt.title(\"Top 15 Job Titles - Withdrawn\")\n",
    "plt.ylim(0,10000)\n",
    "plt.grid(True)\n",
    "\n",
    "plt.subplot(224)\n",
    "top_15_job_titles_denied.plot(kind=\"bar\")\n",
    "plt.xlabel(\"Job Titles\")\n",
    "plt.ylabel(\"Number of Cases\")\n",
    "plt.title(\"Top 15 Job Titles - Denied\")\n",
    "plt.ylim(0,10000)\n",
    "plt.grid(True)\n",
    "\n",
    "plt.tight_layout()"
   ]
  },
  {
   "cell_type": "markdown",
   "metadata": {},
   "source": [
    "Since the companies are mainly tech companies and IT is the number one industry, as expected, job titles are relevant with them."
   ]
  },
  {
   "cell_type": "markdown",
   "metadata": {},
   "source": [
    "### 1.4.5. Salary Range"
   ]
  },
  {
   "cell_type": "code",
   "execution_count": 38,
   "metadata": {
    "collapsed": true,
    "scrolled": true
   },
   "outputs": [],
   "source": [
    "visa_treated[\"pw_amount_9089\"] = visa_treated[\"pw_amount_9089\"].str.replace(\",\", \"\").astype(float)"
   ]
  },
  {
   "cell_type": "code",
   "execution_count": 39,
   "metadata": {},
   "outputs": [
    {
     "data": {
      "text/plain": [
       "0-20k         17338\n",
       "20k-40k       19349\n",
       "40k-60k       37905\n",
       "60k-80k       81648\n",
       "80k-100k     104219\n",
       "100k-120k     68301\n",
       "120k-140k     26489\n",
       "140k-160k      9034\n",
       "160k-180k      3610\n",
       "180k-200k      2937\n",
       "200k-220k       967\n",
       "220k-240k       270\n",
       "240k-260k        30\n",
       "260k-280k         2\n",
       "+280k            47\n",
       "Name: remuneration, dtype: int64"
      ]
     },
     "execution_count": 39,
     "metadata": {},
     "output_type": "execute_result"
    }
   ],
   "source": [
    "#Dividing our continuous income values into some categories to facilitate their visualization\n",
    "visa_treated['remuneration'] = pd.cut(visa_treated['pw_amount_9089'], [0,20000,40000,60000,80000,100000,120000,140000,160000,180000,\n",
    "                                                                       200000,220000,240000, 260000, 280000, 30000000],\n",
    "                                                                      right=False, labels=[\"0-20k\", \"20k-40k\",\"40k-60k\",\"60k-80k\",\"80k-100k\",\n",
    "                                                                      \"100k-120k\",\"120k-140k\",\"140k-160k\",\"160k-180k\",\"180k-200k\",\n",
    "                                                                      \"200k-220k\",\"220k-240k\",\"240k-260k\", \"260k-280k\", \"+280k\"])\n",
    "salary = visa_treated['remuneration'].value_counts()\n",
    "salary.iloc[np.argsort(salary.index)]\n",
    "##495748000"
   ]
  },
  {
   "cell_type": "code",
   "execution_count": 40,
   "metadata": {},
   "outputs": [
    {
     "data": {
      "text/plain": [
       "<seaborn.axisgrid.FacetGrid at 0x25c80fd2400>"
      ]
     },
     "execution_count": 40,
     "metadata": {},
     "output_type": "execute_result"
    },
    {
     "data": {
      "image/png": "[encoded data removed]",
      "text/plain": [
       "<matplotlib.figure.Figure at 0x25c81b36240>"
      ]
     },
     "metadata": {},
     "output_type": "display_data"
    }
   ],
   "source": [
    "# Draw a count plot to show the distribution of remunerations\n",
    "s = sns.factorplot(x='remuneration', data=visa_treated, kind=\"count\",\n",
    "                   palette=\"BuPu\", size=6, aspect=1.2)\n",
    "s.set_xticklabels(rotation=40, ha=\"right\")\n",
    "s.set(xlabel='Remuneration', ylabel='Number of applicants')"
   ]
  },
  {
   "cell_type": "markdown",
   "metadata": {},
   "source": [
    "Note that we evaluated salaries together though payment period varies. However, annual payment dominates, as we will see in the next section, this approach does not affect histrogram, significantly."
   ]
  },
  {
   "cell_type": "code",
   "execution_count": 41,
   "metadata": {},
   "outputs": [
    {
     "data": {
      "text/plain": [
       "13528320.0"
      ]
     },
     "execution_count": 41,
     "metadata": {},
     "output_type": "execute_result"
    }
   ],
   "source": [
    "visa_treated[\"pw_amount_9089\"].max()"
   ]
  },
  {
   "cell_type": "markdown",
   "metadata": {},
   "source": [
    "### 1.4.5. Payment Type"
   ]
  },
  {
   "cell_type": "code",
   "execution_count": 42,
   "metadata": {},
   "outputs": [
    {
     "data": {
      "text/plain": [
       "array(['yr', 'hr', nan, 'bi', 'mth', 'wk', 'Hour', 'Year', 'Bi-Weekly',\n",
       "       'Week', 'Month'], dtype=object)"
      ]
     },
     "execution_count": 42,
     "metadata": {},
     "output_type": "execute_result"
    }
   ],
   "source": [
    "## Checking payment type \n",
    "visa_treated[\"pw_unit_of_pay_9089\"].unique()"
   ]
  },
  {
   "cell_type": "code",
   "execution_count": 43,
   "metadata": {
    "collapsed": true
   },
   "outputs": [],
   "source": [
    "period = {\"yr\": \"annual\", \"hr\": \"hourly\", \"bi\": \"bi-weekly\", \"mth\": \"monthly\", \"wk\": \"weekly\", \"Hour\": \"hourly\",\n",
    "        \"Year\": \"annual\", \"Bi-Weekly\": \"bi-weekly\", \"Week\": \"weekly\", \"Month\": \"monthly\",  \"nan\": \"nan\"}\n",
    "\n",
    "visa_treated[\"pw_unit_of_pay_9089\"] = visa_treated[\"pw_unit_of_pay_9089\"].map(period)"
   ]
  },
  {
   "cell_type": "code",
   "execution_count": 44,
   "metadata": {
    "scrolled": true
   },
   "outputs": [
    {
     "data": {
      "text/plain": [
       "annual       364080\n",
       "hourly         8345\n",
       "weekly          207\n",
       "monthly         130\n",
       "bi-weekly        28\n",
       "Name: pw_unit_of_pay_9089, dtype: int64"
      ]
     },
     "execution_count": 44,
     "metadata": {},
     "output_type": "execute_result"
    }
   ],
   "source": [
    "visa_treated[\"pw_unit_of_pay_9089\"].value_counts()"
   ]
  },
  {
   "cell_type": "markdown",
   "metadata": {},
   "source": [
    "## 2. Modelling"
   ]
  },
  {
   "cell_type": "markdown",
   "metadata": {},
   "source": [
    "### 2.1. Imputation"
   ]
  },
  {
   "cell_type": "code",
   "execution_count": 45,
   "metadata": {},
   "outputs": [
    {
     "data": {
      "text/html": [
       "<div>\n",
       "<style>\n",
       "    .dataframe thead tr:only-child th {\n",
       "        text-align: right;\n",
       "    }\n",
       "\n",
       "    .dataframe thead th {\n",
       "        text-align: left;\n",
       "    }\n",
       "\n",
       "    .dataframe tbody tr th {\n",
       "        vertical-align: top;\n",
       "    }\n",
       "</style>\n",
       "<table border=\"1\" class=\"dataframe\">\n",
       "  <thead>\n",
       "    <tr style=\"text-align: right;\">\n",
       "      <th></th>\n",
       "      <th>class_of_admission</th>\n",
       "      <th>country_of_citizenship</th>\n",
       "      <th>pw_amount_9089</th>\n",
       "      <th>pw_unit_of_pay_9089</th>\n",
       "      <th>pw_soc_code</th>\n",
       "      <th>employer_state</th>\n",
       "      <th>employer_city</th>\n",
       "      <th>employer_name</th>\n",
       "      <th>decision_date</th>\n",
       "      <th>case_status</th>\n",
       "      <th>job_info_job_title</th>\n",
       "      <th>us_economic_sector</th>\n",
       "      <th>foreign_worker_info_education</th>\n",
       "      <th>decision_year</th>\n",
       "      <th>dummy</th>\n",
       "      <th>remuneration</th>\n",
       "    </tr>\n",
       "  </thead>\n",
       "  <tbody>\n",
       "    <tr>\n",
       "      <th>0</th>\n",
       "      <td>J-1</td>\n",
       "      <td>INDIA</td>\n",
       "      <td>75629.00</td>\n",
       "      <td>annual</td>\n",
       "      <td>15-1031.00</td>\n",
       "      <td>NEW YORK</td>\n",
       "      <td>NEW YORK</td>\n",
       "      <td>NETSOFT USA INC.</td>\n",
       "      <td>2012-02-01</td>\n",
       "      <td>Certified</td>\n",
       "      <td>Software Engineer</td>\n",
       "      <td>IT</td>\n",
       "      <td>None</td>\n",
       "      <td>2012</td>\n",
       "      <td>1</td>\n",
       "      <td>60k-80k</td>\n",
       "    </tr>\n",
       "    <tr>\n",
       "      <th>1</th>\n",
       "      <td>B-2</td>\n",
       "      <td>INDIA</td>\n",
       "      <td>37024.00</td>\n",
       "      <td>annual</td>\n",
       "      <td>47-4041.00</td>\n",
       "      <td>NEW YORK</td>\n",
       "      <td>CARLSTADT</td>\n",
       "      <td>PINNACLE ENVIRONEMNTAL CORP</td>\n",
       "      <td>2011-12-21</td>\n",
       "      <td>Denied</td>\n",
       "      <td>Software Engineer</td>\n",
       "      <td>Other Economic Sector</td>\n",
       "      <td>None</td>\n",
       "      <td>2011</td>\n",
       "      <td>1</td>\n",
       "      <td>20k-40k</td>\n",
       "    </tr>\n",
       "    <tr>\n",
       "      <th>2</th>\n",
       "      <td>H-1B</td>\n",
       "      <td>INDIA</td>\n",
       "      <td>47923.00</td>\n",
       "      <td>annual</td>\n",
       "      <td>17-2051.00</td>\n",
       "      <td>VIRGINIA</td>\n",
       "      <td>GLEN ALLEN</td>\n",
       "      <td>SCHNABEL ENGINEERING, INC.</td>\n",
       "      <td>2011-12-01</td>\n",
       "      <td>Certified</td>\n",
       "      <td>Software Engineer</td>\n",
       "      <td>Aerospace</td>\n",
       "      <td>None</td>\n",
       "      <td>2011</td>\n",
       "      <td>1</td>\n",
       "      <td>40k-60k</td>\n",
       "    </tr>\n",
       "    <tr>\n",
       "      <th>3</th>\n",
       "      <td>B-2</td>\n",
       "      <td>INDIA</td>\n",
       "      <td>10.97</td>\n",
       "      <td>hourly</td>\n",
       "      <td>43-4071.00</td>\n",
       "      <td>NEW YORK</td>\n",
       "      <td>FLUSHING</td>\n",
       "      <td>EBENEZER MISSION CHURCH</td>\n",
       "      <td>2011-12-01</td>\n",
       "      <td>Certified</td>\n",
       "      <td>Software Engineer</td>\n",
       "      <td>Other Economic Sector</td>\n",
       "      <td>None</td>\n",
       "      <td>2011</td>\n",
       "      <td>1</td>\n",
       "      <td>0-20k</td>\n",
       "    </tr>\n",
       "    <tr>\n",
       "      <th>4</th>\n",
       "      <td>L-1</td>\n",
       "      <td>INDIA</td>\n",
       "      <td>94890.00</td>\n",
       "      <td>annual</td>\n",
       "      <td>41-9031.00</td>\n",
       "      <td>NEW YORK</td>\n",
       "      <td>ALBANY</td>\n",
       "      <td>ALBANY INTERNATIONAL CORP.</td>\n",
       "      <td>2012-01-26</td>\n",
       "      <td>Certified</td>\n",
       "      <td>Software Engineer</td>\n",
       "      <td>Advanced Mfg</td>\n",
       "      <td>None</td>\n",
       "      <td>2012</td>\n",
       "      <td>1</td>\n",
       "      <td>80k-100k</td>\n",
       "    </tr>\n",
       "    <tr>\n",
       "      <th>5</th>\n",
       "      <td>EWI</td>\n",
       "      <td>INDIA</td>\n",
       "      <td>37024.00</td>\n",
       "      <td>annual</td>\n",
       "      <td>47-4041.00</td>\n",
       "      <td>NEW YORK</td>\n",
       "      <td>CARLSTADT</td>\n",
       "      <td>PINNACLE ENVIRONEMNTAL CORP</td>\n",
       "      <td>2012-01-26</td>\n",
       "      <td>Denied</td>\n",
       "      <td>Software Engineer</td>\n",
       "      <td>Other Economic Sector</td>\n",
       "      <td>None</td>\n",
       "      <td>2012</td>\n",
       "      <td>1</td>\n",
       "      <td>20k-40k</td>\n",
       "    </tr>\n",
       "    <tr>\n",
       "      <th>6</th>\n",
       "      <td>H-1B</td>\n",
       "      <td>INDIA</td>\n",
       "      <td>47083.33</td>\n",
       "      <td>annual</td>\n",
       "      <td>25-2031.00</td>\n",
       "      <td>NEW YORK</td>\n",
       "      <td>TROY</td>\n",
       "      <td>EMMA WILLARD SCHOOL</td>\n",
       "      <td>2011-10-07</td>\n",
       "      <td>Certified-Expired</td>\n",
       "      <td>Software Engineer</td>\n",
       "      <td>Educational Services</td>\n",
       "      <td>None</td>\n",
       "      <td>2011</td>\n",
       "      <td>1</td>\n",
       "      <td>40k-60k</td>\n",
       "    </tr>\n",
       "    <tr>\n",
       "      <th>7</th>\n",
       "      <td>E-2</td>\n",
       "      <td>INDIA</td>\n",
       "      <td>36733.00</td>\n",
       "      <td>annual</td>\n",
       "      <td>13-1051.00</td>\n",
       "      <td>FLORIDA</td>\n",
       "      <td>POMPANO BEACH</td>\n",
       "      <td>FDS  ALUMINUM  LLC</td>\n",
       "      <td>2012-02-06</td>\n",
       "      <td>Denied</td>\n",
       "      <td>Software Engineer</td>\n",
       "      <td>Advanced Mfg</td>\n",
       "      <td>None</td>\n",
       "      <td>2012</td>\n",
       "      <td>1</td>\n",
       "      <td>20k-40k</td>\n",
       "    </tr>\n",
       "    <tr>\n",
       "      <th>8</th>\n",
       "      <td>H-1B</td>\n",
       "      <td>INDIA</td>\n",
       "      <td>44824.00</td>\n",
       "      <td>annual</td>\n",
       "      <td>15-1051.00</td>\n",
       "      <td>DELAWARE</td>\n",
       "      <td>WILMINGTON</td>\n",
       "      <td>ELECTRONIC DATA SYSTEMS CORPORATION</td>\n",
       "      <td>2012-02-29</td>\n",
       "      <td>Certified</td>\n",
       "      <td>Software Engineer</td>\n",
       "      <td>IT</td>\n",
       "      <td>None</td>\n",
       "      <td>2012</td>\n",
       "      <td>1</td>\n",
       "      <td>40k-60k</td>\n",
       "    </tr>\n",
       "    <tr>\n",
       "      <th>9</th>\n",
       "      <td>E-2</td>\n",
       "      <td>INDIA</td>\n",
       "      <td>12.86</td>\n",
       "      <td>hourly</td>\n",
       "      <td>41-1011.00</td>\n",
       "      <td>NEW YORK</td>\n",
       "      <td>BROOKLYN</td>\n",
       "      <td>AMER BROTHERS INTERNATIONAL, INC.</td>\n",
       "      <td>2012-03-30</td>\n",
       "      <td>Denied</td>\n",
       "      <td>Software Engineer</td>\n",
       "      <td>Retail</td>\n",
       "      <td>None</td>\n",
       "      <td>2012</td>\n",
       "      <td>1</td>\n",
       "      <td>0-20k</td>\n",
       "    </tr>\n",
       "    <tr>\n",
       "      <th>10</th>\n",
       "      <td>H-1B</td>\n",
       "      <td>INDIA</td>\n",
       "      <td>59758.00</td>\n",
       "      <td>annual</td>\n",
       "      <td>15-1021.00</td>\n",
       "      <td>MARYLAND</td>\n",
       "      <td>BETHESDA</td>\n",
       "      <td>AQUAS, INC.</td>\n",
       "      <td>2012-03-05</td>\n",
       "      <td>Withdrawn</td>\n",
       "      <td>Software Engineer</td>\n",
       "      <td>IT</td>\n",
       "      <td>None</td>\n",
       "      <td>2012</td>\n",
       "      <td>1</td>\n",
       "      <td>40k-60k</td>\n",
       "    </tr>\n",
       "    <tr>\n",
       "      <th>11</th>\n",
       "      <td>H-1B</td>\n",
       "      <td>INDIA</td>\n",
       "      <td>46176.00</td>\n",
       "      <td>annual</td>\n",
       "      <td>27-3031.00</td>\n",
       "      <td>NEW YORK</td>\n",
       "      <td>NEW YORK</td>\n",
       "      <td>NINE MUSES AND APOLLO INC</td>\n",
       "      <td>2012-01-06</td>\n",
       "      <td>Certified</td>\n",
       "      <td>Software Engineer</td>\n",
       "      <td>Other Economic Sector</td>\n",
       "      <td>None</td>\n",
       "      <td>2012</td>\n",
       "      <td>1</td>\n",
       "      <td>40k-60k</td>\n",
       "    </tr>\n",
       "    <tr>\n",
       "      <th>12</th>\n",
       "      <td>H-1B</td>\n",
       "      <td>INDIA</td>\n",
       "      <td>34.30</td>\n",
       "      <td>hourly</td>\n",
       "      <td>17-3023.00</td>\n",
       "      <td>NEW JERSEY</td>\n",
       "      <td>SADDLE BROOK</td>\n",
       "      <td>FASTPULSE TECHNOLOGY, INC.</td>\n",
       "      <td>2012-01-26</td>\n",
       "      <td>Certified</td>\n",
       "      <td>Software Engineer</td>\n",
       "      <td>IT</td>\n",
       "      <td>None</td>\n",
       "      <td>2012</td>\n",
       "      <td>1</td>\n",
       "      <td>0-20k</td>\n",
       "    </tr>\n",
       "    <tr>\n",
       "      <th>13</th>\n",
       "      <td>H-1B</td>\n",
       "      <td>INDIA</td>\n",
       "      <td>74672.00</td>\n",
       "      <td>annual</td>\n",
       "      <td>15-1081.00</td>\n",
       "      <td>GEORGIA</td>\n",
       "      <td>ATLANTA</td>\n",
       "      <td>INTEC BILLING, INC</td>\n",
       "      <td>2011-12-09</td>\n",
       "      <td>Certified</td>\n",
       "      <td>Software Engineer</td>\n",
       "      <td>IT</td>\n",
       "      <td>None</td>\n",
       "      <td>2011</td>\n",
       "      <td>1</td>\n",
       "      <td>60k-80k</td>\n",
       "    </tr>\n",
       "    <tr>\n",
       "      <th>14</th>\n",
       "      <td>H-1B</td>\n",
       "      <td>INDIA</td>\n",
       "      <td>36691.00</td>\n",
       "      <td>annual</td>\n",
       "      <td>51-9041.00</td>\n",
       "      <td>MARYLAND</td>\n",
       "      <td>BLADENSBURG</td>\n",
       "      <td>ERNEST MAIER, INC.</td>\n",
       "      <td>2012-01-30</td>\n",
       "      <td>Certified</td>\n",
       "      <td>Software Engineer</td>\n",
       "      <td>Advanced Mfg</td>\n",
       "      <td>None</td>\n",
       "      <td>2012</td>\n",
       "      <td>1</td>\n",
       "      <td>20k-40k</td>\n",
       "    </tr>\n",
       "    <tr>\n",
       "      <th>15</th>\n",
       "      <td>EWI</td>\n",
       "      <td>INDIA</td>\n",
       "      <td>15.64</td>\n",
       "      <td>hourly</td>\n",
       "      <td>47-2141.00</td>\n",
       "      <td>NEW YORK</td>\n",
       "      <td>WEST HEMPSTEAD</td>\n",
       "      <td>NIKO DEVELOPMENT CORP</td>\n",
       "      <td>2011-10-13</td>\n",
       "      <td>Certified-Expired</td>\n",
       "      <td>Software Engineer</td>\n",
       "      <td>Construction</td>\n",
       "      <td>None</td>\n",
       "      <td>2011</td>\n",
       "      <td>1</td>\n",
       "      <td>0-20k</td>\n",
       "    </tr>\n",
       "    <tr>\n",
       "      <th>16</th>\n",
       "      <td>H-1B</td>\n",
       "      <td>INDIA</td>\n",
       "      <td>28.05</td>\n",
       "      <td>hourly</td>\n",
       "      <td>15-1051.00</td>\n",
       "      <td>NEW JERSEY</td>\n",
       "      <td>PLAINSBORO</td>\n",
       "      <td>COMPUNNEL SOFTWARE GROUP, INC.</td>\n",
       "      <td>2011-12-05</td>\n",
       "      <td>Certified</td>\n",
       "      <td>Software Engineer</td>\n",
       "      <td>IT</td>\n",
       "      <td>None</td>\n",
       "      <td>2011</td>\n",
       "      <td>1</td>\n",
       "      <td>0-20k</td>\n",
       "    </tr>\n",
       "    <tr>\n",
       "      <th>17</th>\n",
       "      <td>H-1B</td>\n",
       "      <td>INDIA</td>\n",
       "      <td>12.06</td>\n",
       "      <td>hourly</td>\n",
       "      <td>41-2031.00</td>\n",
       "      <td>NEW YORK</td>\n",
       "      <td>JACKSON HEIGHTS</td>\n",
       "      <td>V.H.C. USA INCD/B/A VITAMIN HOMEOPTAHY CENTER</td>\n",
       "      <td>2012-03-26</td>\n",
       "      <td>Certified</td>\n",
       "      <td>Software Engineer</td>\n",
       "      <td>Retail</td>\n",
       "      <td>None</td>\n",
       "      <td>2012</td>\n",
       "      <td>1</td>\n",
       "      <td>0-20k</td>\n",
       "    </tr>\n",
       "    <tr>\n",
       "      <th>18</th>\n",
       "      <td>EWI</td>\n",
       "      <td>INDIA</td>\n",
       "      <td>10.37</td>\n",
       "      <td>hourly</td>\n",
       "      <td>51-3011.01</td>\n",
       "      <td>NEW JERSEY</td>\n",
       "      <td>LODI</td>\n",
       "      <td>VITAMIA PASTA BOY, INC</td>\n",
       "      <td>2011-10-07</td>\n",
       "      <td>Denied</td>\n",
       "      <td>Software Engineer</td>\n",
       "      <td>Hospitality</td>\n",
       "      <td>None</td>\n",
       "      <td>2011</td>\n",
       "      <td>1</td>\n",
       "      <td>0-20k</td>\n",
       "    </tr>\n",
       "    <tr>\n",
       "      <th>19</th>\n",
       "      <td>H-1B</td>\n",
       "      <td>INDIA</td>\n",
       "      <td>10.83</td>\n",
       "      <td>hourly</td>\n",
       "      <td>51-4121.00</td>\n",
       "      <td>ILLINOIS</td>\n",
       "      <td>EAST HAZEL CREST</td>\n",
       "      <td>REFIX TRUCK &amp; TRAILER REPAIR</td>\n",
       "      <td>2011-12-13</td>\n",
       "      <td>Certified</td>\n",
       "      <td>Software Engineer</td>\n",
       "      <td>Automotive</td>\n",
       "      <td>None</td>\n",
       "      <td>2011</td>\n",
       "      <td>1</td>\n",
       "      <td>0-20k</td>\n",
       "    </tr>\n",
       "    <tr>\n",
       "      <th>20</th>\n",
       "      <td>H-1B</td>\n",
       "      <td>INDIA</td>\n",
       "      <td>141731.00</td>\n",
       "      <td>annual</td>\n",
       "      <td>11-9041.00</td>\n",
       "      <td>TEXAS</td>\n",
       "      <td>DALLAS</td>\n",
       "      <td>HSB SOLOMON ASSOCIATES LLC</td>\n",
       "      <td>2011-11-03</td>\n",
       "      <td>Certified</td>\n",
       "      <td>Software Engineer</td>\n",
       "      <td>Other Economic Sector</td>\n",
       "      <td>None</td>\n",
       "      <td>2011</td>\n",
       "      <td>1</td>\n",
       "      <td>140k-160k</td>\n",
       "    </tr>\n",
       "    <tr>\n",
       "      <th>21</th>\n",
       "      <td>E-1</td>\n",
       "      <td>INDIA</td>\n",
       "      <td>89336.00</td>\n",
       "      <td>annual</td>\n",
       "      <td>15-1031.00</td>\n",
       "      <td>NEW YORK</td>\n",
       "      <td>NEW YORK</td>\n",
       "      <td>WORLD JOINT CORP. D/B/A IACE TRAVEL, INC.</td>\n",
       "      <td>2011-10-06</td>\n",
       "      <td>Certified-Expired</td>\n",
       "      <td>Software Engineer</td>\n",
       "      <td>Hospitality</td>\n",
       "      <td>None</td>\n",
       "      <td>2011</td>\n",
       "      <td>1</td>\n",
       "      <td>80k-100k</td>\n",
       "    </tr>\n",
       "    <tr>\n",
       "      <th>22</th>\n",
       "      <td>B-2</td>\n",
       "      <td>INDIA</td>\n",
       "      <td>21.58</td>\n",
       "      <td>hourly</td>\n",
       "      <td>11-9081.00</td>\n",
       "      <td>FLORIDA</td>\n",
       "      <td>JACKSONVILLE</td>\n",
       "      <td>KANTICORP.DBA EMERSON INN</td>\n",
       "      <td>2012-01-23</td>\n",
       "      <td>Denied</td>\n",
       "      <td>Software Engineer</td>\n",
       "      <td>Hospitality</td>\n",
       "      <td>None</td>\n",
       "      <td>2012</td>\n",
       "      <td>1</td>\n",
       "      <td>0-20k</td>\n",
       "    </tr>\n",
       "    <tr>\n",
       "      <th>23</th>\n",
       "      <td>EWI</td>\n",
       "      <td>INDIA</td>\n",
       "      <td>18.31</td>\n",
       "      <td>hourly</td>\n",
       "      <td>35-1011.00</td>\n",
       "      <td>NEW JERSEY</td>\n",
       "      <td>NEW BRUNSWICK</td>\n",
       "      <td>MAMCO INC. DBA: OLD MAN RAFFERTY'S</td>\n",
       "      <td>2011-10-12</td>\n",
       "      <td>Denied</td>\n",
       "      <td>Software Engineer</td>\n",
       "      <td>Hospitality</td>\n",
       "      <td>None</td>\n",
       "      <td>2011</td>\n",
       "      <td>1</td>\n",
       "      <td>0-20k</td>\n",
       "    </tr>\n",
       "    <tr>\n",
       "      <th>24</th>\n",
       "      <td>H-1B</td>\n",
       "      <td>INDIA</td>\n",
       "      <td>85675.00</td>\n",
       "      <td>annual</td>\n",
       "      <td>17-2081.00</td>\n",
       "      <td>KENTUCKY</td>\n",
       "      <td>LOUISVILLE</td>\n",
       "      <td>LOUISVILLE (JEFFERSON COUNTY) METRO GOVERNMENT</td>\n",
       "      <td>2012-02-16</td>\n",
       "      <td>Denied</td>\n",
       "      <td>Software Engineer</td>\n",
       "      <td>IT</td>\n",
       "      <td>None</td>\n",
       "      <td>2012</td>\n",
       "      <td>1</td>\n",
       "      <td>80k-100k</td>\n",
       "    </tr>\n",
       "    <tr>\n",
       "      <th>25</th>\n",
       "      <td>H-1B</td>\n",
       "      <td>INDIA</td>\n",
       "      <td>62088.00</td>\n",
       "      <td>annual</td>\n",
       "      <td>13-2011.02</td>\n",
       "      <td>ILLINOIS</td>\n",
       "      <td>DEERFIELD</td>\n",
       "      <td>TAKEDA PHARMACEUTICALS NORTH AMERICA, INC.</td>\n",
       "      <td>2011-10-14</td>\n",
       "      <td>Withdrawn</td>\n",
       "      <td>Software Engineer</td>\n",
       "      <td>Advanced Mfg</td>\n",
       "      <td>None</td>\n",
       "      <td>2011</td>\n",
       "      <td>1</td>\n",
       "      <td>60k-80k</td>\n",
       "    </tr>\n",
       "    <tr>\n",
       "      <th>26</th>\n",
       "      <td>H-1B</td>\n",
       "      <td>INDIA</td>\n",
       "      <td>15.82</td>\n",
       "      <td>hourly</td>\n",
       "      <td>47-5012.00</td>\n",
       "      <td>WYOMING</td>\n",
       "      <td>ROCK SPRINGS</td>\n",
       "      <td>ROCKY MOUNTAIN CASING CREWS, INC.</td>\n",
       "      <td>2011-10-21</td>\n",
       "      <td>Certified-Expired</td>\n",
       "      <td>Software Engineer</td>\n",
       "      <td>Construction</td>\n",
       "      <td>None</td>\n",
       "      <td>2011</td>\n",
       "      <td>1</td>\n",
       "      <td>0-20k</td>\n",
       "    </tr>\n",
       "    <tr>\n",
       "      <th>27</th>\n",
       "      <td>EWI</td>\n",
       "      <td>INDIA</td>\n",
       "      <td>12.90</td>\n",
       "      <td>hourly</td>\n",
       "      <td>35-2014.00</td>\n",
       "      <td>NEW YORK</td>\n",
       "      <td>BROOKLYN</td>\n",
       "      <td>L.A. BURRITO,  INC</td>\n",
       "      <td>2011-10-11</td>\n",
       "      <td>Denied</td>\n",
       "      <td>Software Engineer</td>\n",
       "      <td>Hospitality</td>\n",
       "      <td>None</td>\n",
       "      <td>2011</td>\n",
       "      <td>1</td>\n",
       "      <td>0-20k</td>\n",
       "    </tr>\n",
       "    <tr>\n",
       "      <th>28</th>\n",
       "      <td>H-1B</td>\n",
       "      <td>INDIA</td>\n",
       "      <td>38646.00</td>\n",
       "      <td>annual</td>\n",
       "      <td>15-2031.00</td>\n",
       "      <td>NEW YORK</td>\n",
       "      <td>NEW YORK</td>\n",
       "      <td>MCKINSEY &amp; COMPANY, INC UNITED STATES</td>\n",
       "      <td>2012-02-07</td>\n",
       "      <td>Certified</td>\n",
       "      <td>Software Engineer</td>\n",
       "      <td>Other Economic Sector</td>\n",
       "      <td>None</td>\n",
       "      <td>2012</td>\n",
       "      <td>1</td>\n",
       "      <td>20k-40k</td>\n",
       "    </tr>\n",
       "    <tr>\n",
       "      <th>29</th>\n",
       "      <td>H-1B</td>\n",
       "      <td>INDIA</td>\n",
       "      <td>77272.00</td>\n",
       "      <td>annual</td>\n",
       "      <td>15-1031.00</td>\n",
       "      <td>OHIO</td>\n",
       "      <td>DAYTON</td>\n",
       "      <td>INDUS VALLEY CONSULTANTS, INC</td>\n",
       "      <td>2011-11-15</td>\n",
       "      <td>Denied</td>\n",
       "      <td>Software Engineer</td>\n",
       "      <td>IT</td>\n",
       "      <td>None</td>\n",
       "      <td>2011</td>\n",
       "      <td>1</td>\n",
       "      <td>60k-80k</td>\n",
       "    </tr>\n",
       "    <tr>\n",
       "      <th>...</th>\n",
       "      <td>...</td>\n",
       "      <td>...</td>\n",
       "      <td>...</td>\n",
       "      <td>...</td>\n",
       "      <td>...</td>\n",
       "      <td>...</td>\n",
       "      <td>...</td>\n",
       "      <td>...</td>\n",
       "      <td>...</td>\n",
       "      <td>...</td>\n",
       "      <td>...</td>\n",
       "      <td>...</td>\n",
       "      <td>...</td>\n",
       "      <td>...</td>\n",
       "      <td>...</td>\n",
       "      <td>...</td>\n",
       "    </tr>\n",
       "    <tr>\n",
       "      <th>374332</th>\n",
       "      <td>H-1B</td>\n",
       "      <td>CHINA</td>\n",
       "      <td>85862.00</td>\n",
       "      <td>annual</td>\n",
       "      <td>15-1132</td>\n",
       "      <td>TEXAS</td>\n",
       "      <td>DALLAS</td>\n",
       "      <td>TEXAS INSTRUMENTS INCORPORATED</td>\n",
       "      <td>2016-12-30</td>\n",
       "      <td>Certified</td>\n",
       "      <td>Software Engineer</td>\n",
       "      <td>IT</td>\n",
       "      <td>Master's</td>\n",
       "      <td>2016</td>\n",
       "      <td>1</td>\n",
       "      <td>80k-100k</td>\n",
       "    </tr>\n",
       "    <tr>\n",
       "      <th>374333</th>\n",
       "      <td>F-1</td>\n",
       "      <td>IRAN</td>\n",
       "      <td>113381.00</td>\n",
       "      <td>annual</td>\n",
       "      <td>15-1133</td>\n",
       "      <td>CALIFORNIA</td>\n",
       "      <td>MENLO PARK</td>\n",
       "      <td>FACEBOOK, INC.</td>\n",
       "      <td>2016-12-30</td>\n",
       "      <td>Certified</td>\n",
       "      <td>Research Scientist</td>\n",
       "      <td>IT</td>\n",
       "      <td>Master's</td>\n",
       "      <td>2016</td>\n",
       "      <td>1</td>\n",
       "      <td>100k-120k</td>\n",
       "    </tr>\n",
       "    <tr>\n",
       "      <th>374334</th>\n",
       "      <td>H-1B</td>\n",
       "      <td>TURKMENISTAN</td>\n",
       "      <td>67288.00</td>\n",
       "      <td>annual</td>\n",
       "      <td>15-1142</td>\n",
       "      <td>MARYLAND</td>\n",
       "      <td>LAUREL</td>\n",
       "      <td>CHESAPEAKE LIGHTHOUSE FOUNDATION</td>\n",
       "      <td>2016-12-30</td>\n",
       "      <td>Certified</td>\n",
       "      <td>IT Specialist</td>\n",
       "      <td>IT</td>\n",
       "      <td>Bachelor's</td>\n",
       "      <td>2016</td>\n",
       "      <td>1</td>\n",
       "      <td>60k-80k</td>\n",
       "    </tr>\n",
       "    <tr>\n",
       "      <th>374335</th>\n",
       "      <td>H-1B</td>\n",
       "      <td>INDIA</td>\n",
       "      <td>100006.00</td>\n",
       "      <td>annual</td>\n",
       "      <td>15-1133</td>\n",
       "      <td>GEORGIA</td>\n",
       "      <td>ATLANTA</td>\n",
       "      <td>FIRST DATA TECHNOLOGIES, INC</td>\n",
       "      <td>2016-12-30</td>\n",
       "      <td>Certified</td>\n",
       "      <td>Senior Application Analyst</td>\n",
       "      <td>IT</td>\n",
       "      <td>Master's</td>\n",
       "      <td>2016</td>\n",
       "      <td>1</td>\n",
       "      <td>100k-120k</td>\n",
       "    </tr>\n",
       "    <tr>\n",
       "      <th>374336</th>\n",
       "      <td>H-1B</td>\n",
       "      <td>CHINA</td>\n",
       "      <td>99195.00</td>\n",
       "      <td>annual</td>\n",
       "      <td>15-1133</td>\n",
       "      <td>MASSACHUSETTS</td>\n",
       "      <td>ANDOVER</td>\n",
       "      <td>CASA SYSTEMS INC.</td>\n",
       "      <td>2016-12-30</td>\n",
       "      <td>Certified</td>\n",
       "      <td>Software Development Engineer</td>\n",
       "      <td>IT</td>\n",
       "      <td>Master's</td>\n",
       "      <td>2016</td>\n",
       "      <td>1</td>\n",
       "      <td>80k-100k</td>\n",
       "    </tr>\n",
       "    <tr>\n",
       "      <th>374337</th>\n",
       "      <td>H-1B</td>\n",
       "      <td>MEXICO</td>\n",
       "      <td>94203.00</td>\n",
       "      <td>annual</td>\n",
       "      <td>15-1133</td>\n",
       "      <td>MASSACHUSETTS</td>\n",
       "      <td>HOPKINTON</td>\n",
       "      <td>EMC CORPORATION</td>\n",
       "      <td>2016-12-30</td>\n",
       "      <td>Certified</td>\n",
       "      <td>Software Engineer 2</td>\n",
       "      <td>IT</td>\n",
       "      <td>Bachelor's</td>\n",
       "      <td>2016</td>\n",
       "      <td>1</td>\n",
       "      <td>80k-100k</td>\n",
       "    </tr>\n",
       "    <tr>\n",
       "      <th>374338</th>\n",
       "      <td>L-1</td>\n",
       "      <td>MEXICO</td>\n",
       "      <td>103168.00</td>\n",
       "      <td>annual</td>\n",
       "      <td>17-2071</td>\n",
       "      <td>GEORGIA</td>\n",
       "      <td>SAVANNAH</td>\n",
       "      <td>GULFSTREAM AEROSPACE CORPORATION</td>\n",
       "      <td>2016-12-30</td>\n",
       "      <td>Certified</td>\n",
       "      <td>Electrical - Technical Specialist I</td>\n",
       "      <td>IT</td>\n",
       "      <td>Bachelor's</td>\n",
       "      <td>2016</td>\n",
       "      <td>1</td>\n",
       "      <td>100k-120k</td>\n",
       "    </tr>\n",
       "    <tr>\n",
       "      <th>374339</th>\n",
       "      <td>H-1B</td>\n",
       "      <td>INDIA</td>\n",
       "      <td>127379.00</td>\n",
       "      <td>annual</td>\n",
       "      <td>15-1132</td>\n",
       "      <td>VIRGINIA</td>\n",
       "      <td>VIENNA</td>\n",
       "      <td>OMNITECH SYSTEMS</td>\n",
       "      <td>2016-12-30</td>\n",
       "      <td>Certified</td>\n",
       "      <td>Programmer Analyst</td>\n",
       "      <td>IT</td>\n",
       "      <td>Master's</td>\n",
       "      <td>2016</td>\n",
       "      <td>1</td>\n",
       "      <td>120k-140k</td>\n",
       "    </tr>\n",
       "    <tr>\n",
       "      <th>374340</th>\n",
       "      <td>H-1B</td>\n",
       "      <td>INDIA</td>\n",
       "      <td>124675.00</td>\n",
       "      <td>annual</td>\n",
       "      <td>15-1132</td>\n",
       "      <td>CALIFORNIA</td>\n",
       "      <td>PALO ALTO</td>\n",
       "      <td>VMWARE, INC.</td>\n",
       "      <td>2016-12-30</td>\n",
       "      <td>Certified</td>\n",
       "      <td>Member of Technical Staff &amp;ndash; Software Eng...</td>\n",
       "      <td>IT</td>\n",
       "      <td>Bachelor's</td>\n",
       "      <td>2016</td>\n",
       "      <td>1</td>\n",
       "      <td>120k-140k</td>\n",
       "    </tr>\n",
       "    <tr>\n",
       "      <th>374341</th>\n",
       "      <td>H-1B</td>\n",
       "      <td>ITALY</td>\n",
       "      <td>46904.00</td>\n",
       "      <td>annual</td>\n",
       "      <td>15-1034</td>\n",
       "      <td>FLORIDA</td>\n",
       "      <td>PENSACOLA</td>\n",
       "      <td>FLORIDA INSTITUTE FOR HUMAN AND MACHINE COGNITION</td>\n",
       "      <td>2016-12-30</td>\n",
       "      <td>Certified</td>\n",
       "      <td>Research Associate</td>\n",
       "      <td>IT</td>\n",
       "      <td>Bachelor's</td>\n",
       "      <td>2016</td>\n",
       "      <td>1</td>\n",
       "      <td>40k-60k</td>\n",
       "    </tr>\n",
       "    <tr>\n",
       "      <th>374342</th>\n",
       "      <td>L-1</td>\n",
       "      <td>GERMANY</td>\n",
       "      <td>64272.00</td>\n",
       "      <td>annual</td>\n",
       "      <td>43-3061</td>\n",
       "      <td>PENNSYLVANIA</td>\n",
       "      <td>NEWTOWN SQUARE</td>\n",
       "      <td>SAP AMERICA, INC.</td>\n",
       "      <td>2016-12-30</td>\n",
       "      <td>Certified</td>\n",
       "      <td>Business Support Specialist</td>\n",
       "      <td>IT</td>\n",
       "      <td>Bachelor's</td>\n",
       "      <td>2016</td>\n",
       "      <td>1</td>\n",
       "      <td>60k-80k</td>\n",
       "    </tr>\n",
       "    <tr>\n",
       "      <th>374343</th>\n",
       "      <td>Not in USA</td>\n",
       "      <td>VIETNAM</td>\n",
       "      <td>17139.00</td>\n",
       "      <td>annual</td>\n",
       "      <td>53-7061</td>\n",
       "      <td>LOUISIANA</td>\n",
       "      <td>HOLDEN</td>\n",
       "      <td>FERRARA FIRE APPARATUS, INC</td>\n",
       "      <td>2016-12-30</td>\n",
       "      <td>Certified</td>\n",
       "      <td>Auto Detailer</td>\n",
       "      <td>IT</td>\n",
       "      <td>None</td>\n",
       "      <td>2016</td>\n",
       "      <td>1</td>\n",
       "      <td>0-20k</td>\n",
       "    </tr>\n",
       "    <tr>\n",
       "      <th>374344</th>\n",
       "      <td>H-1B</td>\n",
       "      <td>CHINA</td>\n",
       "      <td>93163.00</td>\n",
       "      <td>annual</td>\n",
       "      <td>15-1132</td>\n",
       "      <td>CALIFORNIA</td>\n",
       "      <td>WOODLAND HILLS</td>\n",
       "      <td>ZOBRIST CONSULTING GROUP, INC</td>\n",
       "      <td>2016-12-30</td>\n",
       "      <td>Certified</td>\n",
       "      <td>Lead Cloud Developer</td>\n",
       "      <td>IT</td>\n",
       "      <td>Master's</td>\n",
       "      <td>2016</td>\n",
       "      <td>1</td>\n",
       "      <td>80k-100k</td>\n",
       "    </tr>\n",
       "    <tr>\n",
       "      <th>374345</th>\n",
       "      <td>H-1B</td>\n",
       "      <td>INDIA</td>\n",
       "      <td>152131.00</td>\n",
       "      <td>annual</td>\n",
       "      <td>17-2072</td>\n",
       "      <td>CALIFORNIA</td>\n",
       "      <td>SAN JOSE</td>\n",
       "      <td>Aricent N.A.Inc</td>\n",
       "      <td>2016-12-30</td>\n",
       "      <td>Certified</td>\n",
       "      <td>Lead ASIC Physical Design Engineer</td>\n",
       "      <td>IT</td>\n",
       "      <td>Master's</td>\n",
       "      <td>2016</td>\n",
       "      <td>1</td>\n",
       "      <td>140k-160k</td>\n",
       "    </tr>\n",
       "    <tr>\n",
       "      <th>374346</th>\n",
       "      <td>H-1B</td>\n",
       "      <td>INDIA</td>\n",
       "      <td>87422.00</td>\n",
       "      <td>annual</td>\n",
       "      <td>17-2072</td>\n",
       "      <td>CALIFORNIA</td>\n",
       "      <td>SAN JOSE</td>\n",
       "      <td>Aricent N.A.Inc</td>\n",
       "      <td>2016-12-30</td>\n",
       "      <td>Certified</td>\n",
       "      <td>Computer Systems Engineer</td>\n",
       "      <td>IT</td>\n",
       "      <td>Bachelor's</td>\n",
       "      <td>2016</td>\n",
       "      <td>1</td>\n",
       "      <td>80k-100k</td>\n",
       "    </tr>\n",
       "    <tr>\n",
       "      <th>374347</th>\n",
       "      <td>H-1B</td>\n",
       "      <td>INDIA</td>\n",
       "      <td>109845.00</td>\n",
       "      <td>annual</td>\n",
       "      <td>15-1132</td>\n",
       "      <td>NEW YORK</td>\n",
       "      <td>NEW YORK</td>\n",
       "      <td>AXA EQUITABLE LIFE INSURANCE COMPANY</td>\n",
       "      <td>2016-12-30</td>\n",
       "      <td>Certified</td>\n",
       "      <td>Computer Systems Analyst, Data Integration</td>\n",
       "      <td>IT</td>\n",
       "      <td>Bachelor's</td>\n",
       "      <td>2016</td>\n",
       "      <td>1</td>\n",
       "      <td>100k-120k</td>\n",
       "    </tr>\n",
       "    <tr>\n",
       "      <th>374348</th>\n",
       "      <td>H-1B</td>\n",
       "      <td>INDIA</td>\n",
       "      <td>123490.00</td>\n",
       "      <td>annual</td>\n",
       "      <td>15-1132</td>\n",
       "      <td>NEW JERSEY</td>\n",
       "      <td>MONMOUTH JUNCTION</td>\n",
       "      <td>TAD Solutions Inc</td>\n",
       "      <td>2016-12-30</td>\n",
       "      <td>Certified</td>\n",
       "      <td>Software Developer</td>\n",
       "      <td>IT</td>\n",
       "      <td>Bachelor's</td>\n",
       "      <td>2016</td>\n",
       "      <td>1</td>\n",
       "      <td>120k-140k</td>\n",
       "    </tr>\n",
       "    <tr>\n",
       "      <th>374349</th>\n",
       "      <td>H-1B</td>\n",
       "      <td>INDIA</td>\n",
       "      <td>84635.00</td>\n",
       "      <td>annual</td>\n",
       "      <td>15-1132</td>\n",
       "      <td>KENTUCKY</td>\n",
       "      <td>HEBRON</td>\n",
       "      <td>Pomeroy IT Solutions Sales Company</td>\n",
       "      <td>2016-12-30</td>\n",
       "      <td>Certified</td>\n",
       "      <td>Senior .NET Developer(s)</td>\n",
       "      <td>IT</td>\n",
       "      <td>Master's</td>\n",
       "      <td>2016</td>\n",
       "      <td>1</td>\n",
       "      <td>80k-100k</td>\n",
       "    </tr>\n",
       "    <tr>\n",
       "      <th>374350</th>\n",
       "      <td>H-1B</td>\n",
       "      <td>INDIA</td>\n",
       "      <td>69098.00</td>\n",
       "      <td>annual</td>\n",
       "      <td>15-1132</td>\n",
       "      <td>OHIO</td>\n",
       "      <td>MILFORD</td>\n",
       "      <td>SIEMENS PLM SOFTWARE INC.</td>\n",
       "      <td>2016-12-30</td>\n",
       "      <td>Certified</td>\n",
       "      <td>Software Engineer</td>\n",
       "      <td>IT</td>\n",
       "      <td>Master's</td>\n",
       "      <td>2016</td>\n",
       "      <td>1</td>\n",
       "      <td>60k-80k</td>\n",
       "    </tr>\n",
       "    <tr>\n",
       "      <th>374351</th>\n",
       "      <td>L-1</td>\n",
       "      <td>INDIA</td>\n",
       "      <td>114795.00</td>\n",
       "      <td>annual</td>\n",
       "      <td>15-1121</td>\n",
       "      <td>CALIFORNIA</td>\n",
       "      <td>SAN JOSE</td>\n",
       "      <td>GLOBALLOGIC INC.</td>\n",
       "      <td>2016-12-30</td>\n",
       "      <td>Certified</td>\n",
       "      <td>Computer Systems Architect</td>\n",
       "      <td>IT</td>\n",
       "      <td>Master's</td>\n",
       "      <td>2016</td>\n",
       "      <td>1</td>\n",
       "      <td>100k-120k</td>\n",
       "    </tr>\n",
       "    <tr>\n",
       "      <th>374352</th>\n",
       "      <td>H-1B</td>\n",
       "      <td>INDIA</td>\n",
       "      <td>112354.00</td>\n",
       "      <td>annual</td>\n",
       "      <td>15-1122</td>\n",
       "      <td>NEW YORK</td>\n",
       "      <td>NEW YORK</td>\n",
       "      <td>DEUTSCHE BANK TRUST COMPANY AMERICAS</td>\n",
       "      <td>2016-12-30</td>\n",
       "      <td>Certified</td>\n",
       "      <td>Assistant Vice President, Divisional Business ...</td>\n",
       "      <td>IT</td>\n",
       "      <td>Master's</td>\n",
       "      <td>2016</td>\n",
       "      <td>1</td>\n",
       "      <td>100k-120k</td>\n",
       "    </tr>\n",
       "    <tr>\n",
       "      <th>374353</th>\n",
       "      <td>H-1B</td>\n",
       "      <td>INDIA</td>\n",
       "      <td>136219.00</td>\n",
       "      <td>annual</td>\n",
       "      <td>13-1111</td>\n",
       "      <td>NEW JERSEY</td>\n",
       "      <td>PISCATAWAY</td>\n",
       "      <td>FIRST TEK, INC.</td>\n",
       "      <td>2016-12-30</td>\n",
       "      <td>Certified</td>\n",
       "      <td>MANAGEMENT ANALYST</td>\n",
       "      <td>IT</td>\n",
       "      <td>Bachelor's</td>\n",
       "      <td>2016</td>\n",
       "      <td>1</td>\n",
       "      <td>120k-140k</td>\n",
       "    </tr>\n",
       "    <tr>\n",
       "      <th>374354</th>\n",
       "      <td>H-1B</td>\n",
       "      <td>INDIA</td>\n",
       "      <td>100693.00</td>\n",
       "      <td>annual</td>\n",
       "      <td>15-1133</td>\n",
       "      <td>NEW YORK</td>\n",
       "      <td>MELVILLE</td>\n",
       "      <td>ANALYSIS &amp; DESIGN APPLICATION CO., LTD.</td>\n",
       "      <td>2016-12-30</td>\n",
       "      <td>Withdrawn</td>\n",
       "      <td>Senior Software Developer</td>\n",
       "      <td>IT</td>\n",
       "      <td>Master's</td>\n",
       "      <td>2016</td>\n",
       "      <td>1</td>\n",
       "      <td>100k-120k</td>\n",
       "    </tr>\n",
       "    <tr>\n",
       "      <th>374355</th>\n",
       "      <td>Not in USA</td>\n",
       "      <td>JAPAN</td>\n",
       "      <td>67059.00</td>\n",
       "      <td>annual</td>\n",
       "      <td>11-9033</td>\n",
       "      <td>CALIFORNIA</td>\n",
       "      <td>LONG BEACH</td>\n",
       "      <td>HANCOCK UNIVERSITY</td>\n",
       "      <td>2016-12-30</td>\n",
       "      <td>Withdrawn</td>\n",
       "      <td>DEAN</td>\n",
       "      <td>IT</td>\n",
       "      <td>Master's</td>\n",
       "      <td>2016</td>\n",
       "      <td>1</td>\n",
       "      <td>60k-80k</td>\n",
       "    </tr>\n",
       "    <tr>\n",
       "      <th>374356</th>\n",
       "      <td>H-1B</td>\n",
       "      <td>CHINA</td>\n",
       "      <td>142938.00</td>\n",
       "      <td>annual</td>\n",
       "      <td>15-1133</td>\n",
       "      <td>CALIFORNIA</td>\n",
       "      <td>MOUNTAIN VIEW</td>\n",
       "      <td>PURE STORAGE, INC.</td>\n",
       "      <td>2016-12-30</td>\n",
       "      <td>Withdrawn</td>\n",
       "      <td>Member of Technical Staff (Software Engineer)</td>\n",
       "      <td>IT</td>\n",
       "      <td>Master's</td>\n",
       "      <td>2016</td>\n",
       "      <td>1</td>\n",
       "      <td>140k-160k</td>\n",
       "    </tr>\n",
       "    <tr>\n",
       "      <th>374357</th>\n",
       "      <td>H-1B</td>\n",
       "      <td>SOUTH KOREA</td>\n",
       "      <td>28330.00</td>\n",
       "      <td>annual</td>\n",
       "      <td>43-9061</td>\n",
       "      <td>CALIFORNIA</td>\n",
       "      <td>ANAHEIM</td>\n",
       "      <td>UNION DENTAL GROUP ANAHEIM, INC.</td>\n",
       "      <td>2016-12-30</td>\n",
       "      <td>Withdrawn</td>\n",
       "      <td>Office Assistant</td>\n",
       "      <td>IT</td>\n",
       "      <td>Associate's</td>\n",
       "      <td>2016</td>\n",
       "      <td>1</td>\n",
       "      <td>20k-40k</td>\n",
       "    </tr>\n",
       "    <tr>\n",
       "      <th>374358</th>\n",
       "      <td>L-1</td>\n",
       "      <td>VIETNAM</td>\n",
       "      <td>107744.00</td>\n",
       "      <td>annual</td>\n",
       "      <td>15-1132</td>\n",
       "      <td>WASHINGTON</td>\n",
       "      <td>REDMOND</td>\n",
       "      <td>MICROSOFT CORPORATION</td>\n",
       "      <td>2016-12-30</td>\n",
       "      <td>Withdrawn</td>\n",
       "      <td>Software Engineer II</td>\n",
       "      <td>IT</td>\n",
       "      <td>Bachelor's</td>\n",
       "      <td>2016</td>\n",
       "      <td>1</td>\n",
       "      <td>100k-120k</td>\n",
       "    </tr>\n",
       "    <tr>\n",
       "      <th>374359</th>\n",
       "      <td>H-1B</td>\n",
       "      <td>INDIA</td>\n",
       "      <td>79082.00</td>\n",
       "      <td>annual</td>\n",
       "      <td>15-1121</td>\n",
       "      <td>MICHIGAN</td>\n",
       "      <td>YPSILANTI</td>\n",
       "      <td>AMPHION GLOBAL INC</td>\n",
       "      <td>2016-12-30</td>\n",
       "      <td>Withdrawn</td>\n",
       "      <td>Computer Systems Analyst</td>\n",
       "      <td>IT</td>\n",
       "      <td>Master's</td>\n",
       "      <td>2016</td>\n",
       "      <td>1</td>\n",
       "      <td>60k-80k</td>\n",
       "    </tr>\n",
       "    <tr>\n",
       "      <th>374360</th>\n",
       "      <td>B-2</td>\n",
       "      <td>SOUTH KOREA</td>\n",
       "      <td>37981.00</td>\n",
       "      <td>annual</td>\n",
       "      <td>43-3031</td>\n",
       "      <td>ARIZONA</td>\n",
       "      <td>PHOENIX</td>\n",
       "      <td>Zen Sushi, Inc</td>\n",
       "      <td>2016-12-30</td>\n",
       "      <td>Withdrawn</td>\n",
       "      <td>Accounting Clerk</td>\n",
       "      <td>IT</td>\n",
       "      <td>None</td>\n",
       "      <td>2016</td>\n",
       "      <td>1</td>\n",
       "      <td>20k-40k</td>\n",
       "    </tr>\n",
       "    <tr>\n",
       "      <th>374361</th>\n",
       "      <td>H-1B</td>\n",
       "      <td>CHINA</td>\n",
       "      <td>84926.00</td>\n",
       "      <td>annual</td>\n",
       "      <td>17-2072</td>\n",
       "      <td>CALIFORNIA</td>\n",
       "      <td>SANTA CLARA</td>\n",
       "      <td>INTEL CORPORATION</td>\n",
       "      <td>2016-12-30</td>\n",
       "      <td>Withdrawn</td>\n",
       "      <td>Component Design Engineer</td>\n",
       "      <td>IT</td>\n",
       "      <td>Master's</td>\n",
       "      <td>2016</td>\n",
       "      <td>1</td>\n",
       "      <td>80k-100k</td>\n",
       "    </tr>\n",
       "  </tbody>\n",
       "</table>\n",
       "<p>374362 rows × 16 columns</p>\n",
       "</div>"
      ],
      "text/plain": [
       "       class_of_admission country_of_citizenship  pw_amount_9089  \\\n",
       "0                     J-1                  INDIA        75629.00   \n",
       "1                     B-2                  INDIA        37024.00   \n",
       "2                    H-1B                  INDIA        47923.00   \n",
       "3                     B-2                  INDIA           10.97   \n",
       "4                     L-1                  INDIA        94890.00   \n",
       "5                     EWI                  INDIA        37024.00   \n",
       "6                    H-1B                  INDIA        47083.33   \n",
       "7                     E-2                  INDIA        36733.00   \n",
       "8                    H-1B                  INDIA        44824.00   \n",
       "9                     E-2                  INDIA           12.86   \n",
       "10                   H-1B                  INDIA        59758.00   \n",
       "11                   H-1B                  INDIA        46176.00   \n",
       "12                   H-1B                  INDIA           34.30   \n",
       "13                   H-1B                  INDIA        74672.00   \n",
       "14                   H-1B                  INDIA        36691.00   \n",
       "15                    EWI                  INDIA           15.64   \n",
       "16                   H-1B                  INDIA           28.05   \n",
       "17                   H-1B                  INDIA           12.06   \n",
       "18                    EWI                  INDIA           10.37   \n",
       "19                   H-1B                  INDIA           10.83   \n",
       "20                   H-1B                  INDIA       141731.00   \n",
       "21                    E-1                  INDIA        89336.00   \n",
       "22                    B-2                  INDIA           21.58   \n",
       "23                    EWI                  INDIA           18.31   \n",
       "24                   H-1B                  INDIA        85675.00   \n",
       "25                   H-1B                  INDIA        62088.00   \n",
       "26                   H-1B                  INDIA           15.82   \n",
       "27                    EWI                  INDIA           12.90   \n",
       "28                   H-1B                  INDIA        38646.00   \n",
       "29                   H-1B                  INDIA        77272.00   \n",
       "...                   ...                    ...             ...   \n",
       "374332               H-1B                  CHINA        85862.00   \n",
       "374333                F-1                   IRAN       113381.00   \n",
       "374334               H-1B           TURKMENISTAN        67288.00   \n",
       "374335               H-1B                  INDIA       100006.00   \n",
       "374336               H-1B                  CHINA        99195.00   \n",
       "374337               H-1B                 MEXICO        94203.00   \n",
       "374338                L-1                 MEXICO       103168.00   \n",
       "374339               H-1B                  INDIA       127379.00   \n",
       "374340               H-1B                  INDIA       124675.00   \n",
       "374341               H-1B                  ITALY        46904.00   \n",
       "374342                L-1                GERMANY        64272.00   \n",
       "374343         Not in USA                VIETNAM        17139.00   \n",
       "374344               H-1B                  CHINA        93163.00   \n",
       "374345               H-1B                  INDIA       152131.00   \n",
       "374346               H-1B                  INDIA        87422.00   \n",
       "374347               H-1B                  INDIA       109845.00   \n",
       "374348               H-1B                  INDIA       123490.00   \n",
       "374349               H-1B                  INDIA        84635.00   \n",
       "374350               H-1B                  INDIA        69098.00   \n",
       "374351                L-1                  INDIA       114795.00   \n",
       "374352               H-1B                  INDIA       112354.00   \n",
       "374353               H-1B                  INDIA       136219.00   \n",
       "374354               H-1B                  INDIA       100693.00   \n",
       "374355         Not in USA                  JAPAN        67059.00   \n",
       "374356               H-1B                  CHINA       142938.00   \n",
       "374357               H-1B            SOUTH KOREA        28330.00   \n",
       "374358                L-1                VIETNAM       107744.00   \n",
       "374359               H-1B                  INDIA        79082.00   \n",
       "374360                B-2            SOUTH KOREA        37981.00   \n",
       "374361               H-1B                  CHINA        84926.00   \n",
       "\n",
       "       pw_unit_of_pay_9089 pw_soc_code employer_state      employer_city  \\\n",
       "0                   annual  15-1031.00       NEW YORK           NEW YORK   \n",
       "1                   annual  47-4041.00       NEW YORK          CARLSTADT   \n",
       "2                   annual  17-2051.00       VIRGINIA         GLEN ALLEN   \n",
       "3                   hourly  43-4071.00       NEW YORK           FLUSHING   \n",
       "4                   annual  41-9031.00       NEW YORK             ALBANY   \n",
       "5                   annual  47-4041.00       NEW YORK          CARLSTADT   \n",
       "6                   annual  25-2031.00       NEW YORK               TROY   \n",
       "7                   annual  13-1051.00        FLORIDA      POMPANO BEACH   \n",
       "8                   annual  15-1051.00       DELAWARE         WILMINGTON   \n",
       "9                   hourly  41-1011.00       NEW YORK           BROOKLYN   \n",
       "10                  annual  15-1021.00       MARYLAND           BETHESDA   \n",
       "11                  annual  27-3031.00       NEW YORK           NEW YORK   \n",
       "12                  hourly  17-3023.00     NEW JERSEY       SADDLE BROOK   \n",
       "13                  annual  15-1081.00        GEORGIA            ATLANTA   \n",
       "14                  annual  51-9041.00       MARYLAND        BLADENSBURG   \n",
       "15                  hourly  47-2141.00       NEW YORK     WEST HEMPSTEAD   \n",
       "16                  hourly  15-1051.00     NEW JERSEY         PLAINSBORO   \n",
       "17                  hourly  41-2031.00       NEW YORK    JACKSON HEIGHTS   \n",
       "18                  hourly  51-3011.01     NEW JERSEY               LODI   \n",
       "19                  hourly  51-4121.00       ILLINOIS   EAST HAZEL CREST   \n",
       "20                  annual  11-9041.00          TEXAS             DALLAS   \n",
       "21                  annual  15-1031.00       NEW YORK           NEW YORK   \n",
       "22                  hourly  11-9081.00        FLORIDA       JACKSONVILLE   \n",
       "23                  hourly  35-1011.00     NEW JERSEY      NEW BRUNSWICK   \n",
       "24                  annual  17-2081.00       KENTUCKY         LOUISVILLE   \n",
       "25                  annual  13-2011.02       ILLINOIS          DEERFIELD   \n",
       "26                  hourly  47-5012.00        WYOMING       ROCK SPRINGS   \n",
       "27                  hourly  35-2014.00       NEW YORK           BROOKLYN   \n",
       "28                  annual  15-2031.00       NEW YORK           NEW YORK   \n",
       "29                  annual  15-1031.00           OHIO             DAYTON   \n",
       "...                    ...         ...            ...                ...   \n",
       "374332              annual     15-1132          TEXAS             DALLAS   \n",
       "374333              annual     15-1133     CALIFORNIA         MENLO PARK   \n",
       "374334              annual     15-1142       MARYLAND             LAUREL   \n",
       "374335              annual     15-1133        GEORGIA            ATLANTA   \n",
       "374336              annual     15-1133  MASSACHUSETTS            ANDOVER   \n",
       "374337              annual     15-1133  MASSACHUSETTS          HOPKINTON   \n",
       "374338              annual     17-2071        GEORGIA           SAVANNAH   \n",
       "374339              annual     15-1132       VIRGINIA             VIENNA   \n",
       "374340              annual     15-1132     CALIFORNIA          PALO ALTO   \n",
       "374341              annual     15-1034        FLORIDA          PENSACOLA   \n",
       "374342              annual     43-3061   PENNSYLVANIA     NEWTOWN SQUARE   \n",
       "374343              annual     53-7061      LOUISIANA             HOLDEN   \n",
       "374344              annual     15-1132     CALIFORNIA     WOODLAND HILLS   \n",
       "374345              annual     17-2072     CALIFORNIA           SAN JOSE   \n",
       "374346              annual     17-2072     CALIFORNIA           SAN JOSE   \n",
       "374347              annual     15-1132       NEW YORK           NEW YORK   \n",
       "374348              annual     15-1132     NEW JERSEY  MONMOUTH JUNCTION   \n",
       "374349              annual     15-1132       KENTUCKY             HEBRON   \n",
       "374350              annual     15-1132           OHIO            MILFORD   \n",
       "374351              annual     15-1121     CALIFORNIA           SAN JOSE   \n",
       "374352              annual     15-1122       NEW YORK           NEW YORK   \n",
       "374353              annual     13-1111     NEW JERSEY         PISCATAWAY   \n",
       "374354              annual     15-1133       NEW YORK           MELVILLE   \n",
       "374355              annual     11-9033     CALIFORNIA         LONG BEACH   \n",
       "374356              annual     15-1133     CALIFORNIA      MOUNTAIN VIEW   \n",
       "374357              annual     43-9061     CALIFORNIA            ANAHEIM   \n",
       "374358              annual     15-1132     WASHINGTON            REDMOND   \n",
       "374359              annual     15-1121       MICHIGAN          YPSILANTI   \n",
       "374360              annual     43-3031        ARIZONA            PHOENIX   \n",
       "374361              annual     17-2072     CALIFORNIA        SANTA CLARA   \n",
       "\n",
       "                                            employer_name decision_date  \\\n",
       "0                                        NETSOFT USA INC.    2012-02-01   \n",
       "1                             PINNACLE ENVIRONEMNTAL CORP    2011-12-21   \n",
       "2                              SCHNABEL ENGINEERING, INC.    2011-12-01   \n",
       "3                                 EBENEZER MISSION CHURCH    2011-12-01   \n",
       "4                              ALBANY INTERNATIONAL CORP.    2012-01-26   \n",
       "5                             PINNACLE ENVIRONEMNTAL CORP    2012-01-26   \n",
       "6                                     EMMA WILLARD SCHOOL    2011-10-07   \n",
       "7                                      FDS  ALUMINUM  LLC    2012-02-06   \n",
       "8                     ELECTRONIC DATA SYSTEMS CORPORATION    2012-02-29   \n",
       "9                       AMER BROTHERS INTERNATIONAL, INC.    2012-03-30   \n",
       "10                                            AQUAS, INC.    2012-03-05   \n",
       "11                              NINE MUSES AND APOLLO INC    2012-01-06   \n",
       "12                             FASTPULSE TECHNOLOGY, INC.    2012-01-26   \n",
       "13                                     INTEC BILLING, INC    2011-12-09   \n",
       "14                                     ERNEST MAIER, INC.    2012-01-30   \n",
       "15                                  NIKO DEVELOPMENT CORP    2011-10-13   \n",
       "16                         COMPUNNEL SOFTWARE GROUP, INC.    2011-12-05   \n",
       "17          V.H.C. USA INCD/B/A VITAMIN HOMEOPTAHY CENTER    2012-03-26   \n",
       "18                                 VITAMIA PASTA BOY, INC    2011-10-07   \n",
       "19                           REFIX TRUCK & TRAILER REPAIR    2011-12-13   \n",
       "20                             HSB SOLOMON ASSOCIATES LLC    2011-11-03   \n",
       "21              WORLD JOINT CORP. D/B/A IACE TRAVEL, INC.    2011-10-06   \n",
       "22                              KANTICORP.DBA EMERSON INN    2012-01-23   \n",
       "23                     MAMCO INC. DBA: OLD MAN RAFFERTY'S    2011-10-12   \n",
       "24         LOUISVILLE (JEFFERSON COUNTY) METRO GOVERNMENT    2012-02-16   \n",
       "25             TAKEDA PHARMACEUTICALS NORTH AMERICA, INC.    2011-10-14   \n",
       "26                      ROCKY MOUNTAIN CASING CREWS, INC.    2011-10-21   \n",
       "27                                     L.A. BURRITO,  INC    2011-10-11   \n",
       "28                  MCKINSEY & COMPANY, INC UNITED STATES    2012-02-07   \n",
       "29                          INDUS VALLEY CONSULTANTS, INC    2011-11-15   \n",
       "...                                                   ...           ...   \n",
       "374332                     TEXAS INSTRUMENTS INCORPORATED    2016-12-30   \n",
       "374333                                     FACEBOOK, INC.    2016-12-30   \n",
       "374334                   CHESAPEAKE LIGHTHOUSE FOUNDATION    2016-12-30   \n",
       "374335                       FIRST DATA TECHNOLOGIES, INC    2016-12-30   \n",
       "374336                                  CASA SYSTEMS INC.    2016-12-30   \n",
       "374337                                    EMC CORPORATION    2016-12-30   \n",
       "374338                   GULFSTREAM AEROSPACE CORPORATION    2016-12-30   \n",
       "374339                                   OMNITECH SYSTEMS    2016-12-30   \n",
       "374340                                       VMWARE, INC.    2016-12-30   \n",
       "374341  FLORIDA INSTITUTE FOR HUMAN AND MACHINE COGNITION    2016-12-30   \n",
       "374342                                  SAP AMERICA, INC.    2016-12-30   \n",
       "374343                        FERRARA FIRE APPARATUS, INC    2016-12-30   \n",
       "374344                      ZOBRIST CONSULTING GROUP, INC    2016-12-30   \n",
       "374345                                    Aricent N.A.Inc    2016-12-30   \n",
       "374346                                    Aricent N.A.Inc    2016-12-30   \n",
       "374347               AXA EQUITABLE LIFE INSURANCE COMPANY    2016-12-30   \n",
       "374348                                  TAD Solutions Inc    2016-12-30   \n",
       "374349                 Pomeroy IT Solutions Sales Company    2016-12-30   \n",
       "374350                          SIEMENS PLM SOFTWARE INC.    2016-12-30   \n",
       "374351                                   GLOBALLOGIC INC.    2016-12-30   \n",
       "374352               DEUTSCHE BANK TRUST COMPANY AMERICAS    2016-12-30   \n",
       "374353                                    FIRST TEK, INC.    2016-12-30   \n",
       "374354            ANALYSIS & DESIGN APPLICATION CO., LTD.    2016-12-30   \n",
       "374355                                 HANCOCK UNIVERSITY    2016-12-30   \n",
       "374356                                 PURE STORAGE, INC.    2016-12-30   \n",
       "374357                   UNION DENTAL GROUP ANAHEIM, INC.    2016-12-30   \n",
       "374358                              MICROSOFT CORPORATION    2016-12-30   \n",
       "374359                                 AMPHION GLOBAL INC    2016-12-30   \n",
       "374360                                     Zen Sushi, Inc    2016-12-30   \n",
       "374361                                  INTEL CORPORATION    2016-12-30   \n",
       "\n",
       "              case_status                                 job_info_job_title  \\\n",
       "0               Certified                                  Software Engineer   \n",
       "1                  Denied                                  Software Engineer   \n",
       "2               Certified                                  Software Engineer   \n",
       "3               Certified                                  Software Engineer   \n",
       "4               Certified                                  Software Engineer   \n",
       "5                  Denied                                  Software Engineer   \n",
       "6       Certified-Expired                                  Software Engineer   \n",
       "7                  Denied                                  Software Engineer   \n",
       "8               Certified                                  Software Engineer   \n",
       "9                  Denied                                  Software Engineer   \n",
       "10              Withdrawn                                  Software Engineer   \n",
       "11              Certified                                  Software Engineer   \n",
       "12              Certified                                  Software Engineer   \n",
       "13              Certified                                  Software Engineer   \n",
       "14              Certified                                  Software Engineer   \n",
       "15      Certified-Expired                                  Software Engineer   \n",
       "16              Certified                                  Software Engineer   \n",
       "17              Certified                                  Software Engineer   \n",
       "18                 Denied                                  Software Engineer   \n",
       "19              Certified                                  Software Engineer   \n",
       "20              Certified                                  Software Engineer   \n",
       "21      Certified-Expired                                  Software Engineer   \n",
       "22                 Denied                                  Software Engineer   \n",
       "23                 Denied                                  Software Engineer   \n",
       "24                 Denied                                  Software Engineer   \n",
       "25              Withdrawn                                  Software Engineer   \n",
       "26      Certified-Expired                                  Software Engineer   \n",
       "27                 Denied                                  Software Engineer   \n",
       "28              Certified                                  Software Engineer   \n",
       "29                 Denied                                  Software Engineer   \n",
       "...                   ...                                                ...   \n",
       "374332          Certified                                  Software Engineer   \n",
       "374333          Certified                                 Research Scientist   \n",
       "374334          Certified                                      IT Specialist   \n",
       "374335          Certified                         Senior Application Analyst   \n",
       "374336          Certified                      Software Development Engineer   \n",
       "374337          Certified                                Software Engineer 2   \n",
       "374338          Certified                Electrical - Technical Specialist I   \n",
       "374339          Certified                                 Programmer Analyst   \n",
       "374340          Certified  Member of Technical Staff &ndash; Software Eng...   \n",
       "374341          Certified                                 Research Associate   \n",
       "374342          Certified                        Business Support Specialist   \n",
       "374343          Certified                                      Auto Detailer   \n",
       "374344          Certified                               Lead Cloud Developer   \n",
       "374345          Certified                 Lead ASIC Physical Design Engineer   \n",
       "374346          Certified                          Computer Systems Engineer   \n",
       "374347          Certified         Computer Systems Analyst, Data Integration   \n",
       "374348          Certified                                 Software Developer   \n",
       "374349          Certified                           Senior .NET Developer(s)   \n",
       "374350          Certified                                  Software Engineer   \n",
       "374351          Certified                         Computer Systems Architect   \n",
       "374352          Certified  Assistant Vice President, Divisional Business ...   \n",
       "374353          Certified                                 MANAGEMENT ANALYST   \n",
       "374354          Withdrawn                          Senior Software Developer   \n",
       "374355          Withdrawn                                               DEAN   \n",
       "374356          Withdrawn      Member of Technical Staff (Software Engineer)   \n",
       "374357          Withdrawn                                   Office Assistant   \n",
       "374358          Withdrawn                               Software Engineer II   \n",
       "374359          Withdrawn                           Computer Systems Analyst   \n",
       "374360          Withdrawn                                   Accounting Clerk   \n",
       "374361          Withdrawn                          Component Design Engineer   \n",
       "\n",
       "           us_economic_sector foreign_worker_info_education  decision_year  \\\n",
       "0                          IT                          None           2012   \n",
       "1       Other Economic Sector                          None           2011   \n",
       "2                   Aerospace                          None           2011   \n",
       "3       Other Economic Sector                          None           2011   \n",
       "4                Advanced Mfg                          None           2012   \n",
       "5       Other Economic Sector                          None           2012   \n",
       "6        Educational Services                          None           2011   \n",
       "7                Advanced Mfg                          None           2012   \n",
       "8                          IT                          None           2012   \n",
       "9                      Retail                          None           2012   \n",
       "10                         IT                          None           2012   \n",
       "11      Other Economic Sector                          None           2012   \n",
       "12                         IT                          None           2012   \n",
       "13                         IT                          None           2011   \n",
       "14               Advanced Mfg                          None           2012   \n",
       "15               Construction                          None           2011   \n",
       "16                         IT                          None           2011   \n",
       "17                     Retail                          None           2012   \n",
       "18                Hospitality                          None           2011   \n",
       "19                 Automotive                          None           2011   \n",
       "20      Other Economic Sector                          None           2011   \n",
       "21                Hospitality                          None           2011   \n",
       "22                Hospitality                          None           2012   \n",
       "23                Hospitality                          None           2011   \n",
       "24                         IT                          None           2012   \n",
       "25               Advanced Mfg                          None           2011   \n",
       "26               Construction                          None           2011   \n",
       "27                Hospitality                          None           2011   \n",
       "28      Other Economic Sector                          None           2012   \n",
       "29                         IT                          None           2011   \n",
       "...                       ...                           ...            ...   \n",
       "374332                     IT                      Master's           2016   \n",
       "374333                     IT                      Master's           2016   \n",
       "374334                     IT                    Bachelor's           2016   \n",
       "374335                     IT                      Master's           2016   \n",
       "374336                     IT                      Master's           2016   \n",
       "374337                     IT                    Bachelor's           2016   \n",
       "374338                     IT                    Bachelor's           2016   \n",
       "374339                     IT                      Master's           2016   \n",
       "374340                     IT                    Bachelor's           2016   \n",
       "374341                     IT                    Bachelor's           2016   \n",
       "374342                     IT                    Bachelor's           2016   \n",
       "374343                     IT                          None           2016   \n",
       "374344                     IT                      Master's           2016   \n",
       "374345                     IT                      Master's           2016   \n",
       "374346                     IT                    Bachelor's           2016   \n",
       "374347                     IT                    Bachelor's           2016   \n",
       "374348                     IT                    Bachelor's           2016   \n",
       "374349                     IT                      Master's           2016   \n",
       "374350                     IT                      Master's           2016   \n",
       "374351                     IT                      Master's           2016   \n",
       "374352                     IT                      Master's           2016   \n",
       "374353                     IT                    Bachelor's           2016   \n",
       "374354                     IT                      Master's           2016   \n",
       "374355                     IT                      Master's           2016   \n",
       "374356                     IT                      Master's           2016   \n",
       "374357                     IT                   Associate's           2016   \n",
       "374358                     IT                    Bachelor's           2016   \n",
       "374359                     IT                      Master's           2016   \n",
       "374360                     IT                          None           2016   \n",
       "374361                     IT                      Master's           2016   \n",
       "\n",
       "        dummy remuneration  \n",
       "0           1      60k-80k  \n",
       "1           1      20k-40k  \n",
       "2           1      40k-60k  \n",
       "3           1        0-20k  \n",
       "4           1     80k-100k  \n",
       "5           1      20k-40k  \n",
       "6           1      40k-60k  \n",
       "7           1      20k-40k  \n",
       "8           1      40k-60k  \n",
       "9           1        0-20k  \n",
       "10          1      40k-60k  \n",
       "11          1      40k-60k  \n",
       "12          1        0-20k  \n",
       "13          1      60k-80k  \n",
       "14          1      20k-40k  \n",
       "15          1        0-20k  \n",
       "16          1        0-20k  \n",
       "17          1        0-20k  \n",
       "18          1        0-20k  \n",
       "19          1        0-20k  \n",
       "20          1    140k-160k  \n",
       "21          1     80k-100k  \n",
       "22          1        0-20k  \n",
       "23          1        0-20k  \n",
       "24          1     80k-100k  \n",
       "25          1      60k-80k  \n",
       "26          1        0-20k  \n",
       "27          1        0-20k  \n",
       "28          1      20k-40k  \n",
       "29          1      60k-80k  \n",
       "...       ...          ...  \n",
       "374332      1     80k-100k  \n",
       "374333      1    100k-120k  \n",
       "374334      1      60k-80k  \n",
       "374335      1    100k-120k  \n",
       "374336      1     80k-100k  \n",
       "374337      1     80k-100k  \n",
       "374338      1    100k-120k  \n",
       "374339      1    120k-140k  \n",
       "374340      1    120k-140k  \n",
       "374341      1      40k-60k  \n",
       "374342      1      60k-80k  \n",
       "374343      1        0-20k  \n",
       "374344      1     80k-100k  \n",
       "374345      1    140k-160k  \n",
       "374346      1     80k-100k  \n",
       "374347      1    100k-120k  \n",
       "374348      1    120k-140k  \n",
       "374349      1     80k-100k  \n",
       "374350      1      60k-80k  \n",
       "374351      1    100k-120k  \n",
       "374352      1    100k-120k  \n",
       "374353      1    120k-140k  \n",
       "374354      1    100k-120k  \n",
       "374355      1      60k-80k  \n",
       "374356      1    140k-160k  \n",
       "374357      1      20k-40k  \n",
       "374358      1    100k-120k  \n",
       "374359      1      60k-80k  \n",
       "374360      1      20k-40k  \n",
       "374361      1     80k-100k  \n",
       "\n",
       "[374362 rows x 16 columns]"
      ]
     },
     "execution_count": 45,
     "metadata": {},
     "output_type": "execute_result"
    }
   ],
   "source": [
    "## Filling missing valaues with mode for categorical variable and with median with numerical variables\n",
    "\n",
    "visa_treated.fillna({'class_of_admission': visa_treated[\"class_of_admission\"].mode()[0],\n",
    "                     'country_of_citizenship': visa_treated[\"country_of_citizenship\"].mode()[0],\n",
    "                     'us_economic_sector': visa_treated[\"us_economic_sector\"].mode()[0],\n",
    "                     'pw_amount_9089': visa_treated[\"pw_amount_9089\"].median(),\n",
    "                     'pw_unit_of_pay_9089': visa_treated[\"pw_unit_of_pay_9089\"].mode()[0],\n",
    "                     'pw_soc_code': visa_treated[\"pw_soc_code\"].mode()[0],\n",
    "                     'employer_state': visa_treated[\"employer_state\"].mode()[0],\n",
    "                     'employer_city': visa_treated[\"employer_city\"].mode()[0],\n",
    "                     'job_info_job_title': visa_treated[\"job_info_job_title\"].mode()[0],\n",
    "                     'us_economic_sector': visa_treated[\"us_economic_sector\"].mode()[0],\n",
    "                    'remuneration': visa_treated[\"remuneration\"].mode()[0]}, \n",
    "                    inplace=True)"
   ]
  },
  {
   "cell_type": "code",
   "execution_count": 46,
   "metadata": {
    "collapsed": true
   },
   "outputs": [],
   "source": [
    "## Since we combined none and nan in the previous steps, we will impute them by \"Master's\", which is the most frequent category.\n",
    "\n",
    "visa_treated[visa_treated[\"foreign_worker_info_education\"] == \"None\"][\"foreign_worker_info_education\"] = \"Master's\""
   ]
  },
  {
   "cell_type": "code",
   "execution_count": 47,
   "metadata": {
    "collapsed": true
   },
   "outputs": [],
   "source": [
    "## Establishing X and y to fit models.\n",
    "\n",
    "X = visa_treated.drop([\"employer_state\",\"employer_name\",\"decision_date\",\n",
    "                               \"job_info_job_title\",\"case_status\",\"decision_year\",\"dummy\"], axis=1)\n",
    "y= visa_treated[\"case_status\"]"
   ]
  },
  {
   "cell_type": "markdown",
   "metadata": {},
   "source": [
    "### 2.2. Label Encoding"
   ]
  },
  {
   "cell_type": "code",
   "execution_count": 48,
   "metadata": {
    "collapsed": true
   },
   "outputs": [],
   "source": [
    "from sklearn.preprocessing import LabelEncoder"
   ]
  },
  {
   "cell_type": "code",
   "execution_count": 49,
   "metadata": {
    "collapsed": true
   },
   "outputs": [],
   "source": [
    "for column in X.columns:\n",
    "    X_le = LabelEncoder()\n",
    "    X_le.fit(X[column])\n",
    "    X[column] = X_le.transform(X[column])"
   ]
  },
  {
   "cell_type": "code",
   "execution_count": 50,
   "metadata": {
    "collapsed": true
   },
   "outputs": [],
   "source": [
    "y_le = LabelEncoder()\n",
    "y_le.fit(y)\n",
    "y = y_le.transform(y)"
   ]
  },
  {
   "cell_type": "markdown",
   "metadata": {},
   "source": [
    "### 2.3. Train-Test Split"
   ]
  },
  {
   "cell_type": "code",
   "execution_count": 51,
   "metadata": {},
   "outputs": [
    {
     "name": "stderr",
     "output_type": "stream",
     "text": [
      "C:\\ProgramData\\Anaconda3\\lib\\site-packages\\sklearn\\cross_validation.py:41: DeprecationWarning: This module was deprecated in version 0.18 in favor of the model_selection module into which all the refactored classes and functions are moved. Also note that the interface of the new CV iterators are different from that of this module. This module will be removed in 0.20.\n",
      "  \"This module will be removed in 0.20.\", DeprecationWarning)\n"
     ]
    }
   ],
   "source": [
    "from sklearn.cross_validation import train_test_split"
   ]
  },
  {
   "cell_type": "code",
   "execution_count": 52,
   "metadata": {
    "collapsed": true
   },
   "outputs": [],
   "source": [
    "## Splitting train set and test set.\n",
    "\n",
    "X_train, X_test, y_train, y_test = train_test_split(X, y, test_size=0.7, random_state=101)"
   ]
  },
  {
   "cell_type": "code",
   "execution_count": 53,
   "metadata": {
    "collapsed": true
   },
   "outputs": [],
   "source": [
    "#### don't forget to do cross validation"
   ]
  },
  {
   "cell_type": "markdown",
   "metadata": {
    "collapsed": true
   },
   "source": [
    "We will fit different models and compare scores. (K-Nearest Neighbors, Logistic Regression, Random Forest Classifier and Decision Tree Classifier)"
   ]
  },
  {
   "cell_type": "markdown",
   "metadata": {},
   "source": [
    "## 2.4. Models"
   ]
  },
  {
   "cell_type": "markdown",
   "metadata": {},
   "source": [
    "### 2.4.1. K-Nearest Neighbors"
   ]
  },
  {
   "cell_type": "code",
   "execution_count": 54,
   "metadata": {},
   "outputs": [
    {
     "data": {
      "text/plain": [
       "KNeighborsClassifier(algorithm='auto', leaf_size=30, metric='minkowski',\n",
       "           metric_params=None, n_jobs=1, n_neighbors=7, p=2,\n",
       "           weights='uniform')"
      ]
     },
     "execution_count": 54,
     "metadata": {},
     "output_type": "execute_result"
    }
   ],
   "source": [
    "## K-Nearest Neighbors\n",
    "\n",
    "from sklearn.neighbors import KNeighborsClassifier\n",
    "\n",
    "## n_neighbors=5\n",
    "knn_5 = KNeighborsClassifier(n_neighbors=5, p=2)\n",
    "knn_5.fit(X_train, y_train)\n",
    "\n",
    "n_neighbors=7 \n",
    "knn_7 = KNeighborsClassifier(n_neighbors=7)\n",
    "knn_7.fit(X_train, y_train)"
   ]
  },
  {
   "cell_type": "code",
   "execution_count": 55,
   "metadata": {},
   "outputs": [
    {
     "name": "stdout",
     "output_type": "stream",
     "text": [
      "The score of KNN with k=5 on the training set is 67.3 %.\n",
      "The score of KNN with k=5 on the test set is 55.1 %.\n",
      "The score of KNN with k=7 on the training set is 64.8 %.\n",
      "The score of KNN with k=7 on the test set is 54.9 %.\n"
     ]
    }
   ],
   "source": [
    "print(\"The score of KNN with k=5 on the training set is {:.1f} %.\".format(knn_5.score(X_train, y_train)*100))\n",
    "print(\"The score of KNN with k=5 on the test set is {:.1f} %.\".format(knn_5.score(X_test, y_test)*100))\n",
    "\n",
    "print(\"The score of KNN with k=7 on the training set is {:.1f} %.\".format(knn_7.score(X_train, y_train)*100))\n",
    "print(\"The score of KNN with k=7 on the test set is {:.1f} %.\".format(knn_7.score(X_test, y_test)*100))"
   ]
  },
  {
   "cell_type": "markdown",
   "metadata": {},
   "source": [
    "### 2.4.2. Logistic Regression"
   ]
  },
  {
   "cell_type": "code",
   "execution_count": 56,
   "metadata": {},
   "outputs": [
    {
     "data": {
      "text/plain": [
       "LogisticRegression(C=1.0, class_weight=None, dual=False, fit_intercept=True,\n",
       "          intercept_scaling=1, max_iter=100, multi_class='ovr', n_jobs=1,\n",
       "          penalty='l2', random_state=None, solver='liblinear', tol=0.0001,\n",
       "          verbose=0, warm_start=False)"
      ]
     },
     "execution_count": 56,
     "metadata": {},
     "output_type": "execute_result"
    }
   ],
   "source": [
    "##Logistic Regression\n",
    "\n",
    "from sklearn.linear_model import LogisticRegression\n",
    "\n",
    "logreg = LogisticRegression()\n",
    "logreg.fit(X_train,y_train)"
   ]
  },
  {
   "cell_type": "code",
   "execution_count": 57,
   "metadata": {},
   "outputs": [
    {
     "name": "stdout",
     "output_type": "stream",
     "text": [
      "The score of Logistic Regression on the training set is 48.6 %.\n",
      "The score of Logistic Regression on the test set is 48.6 %.\n"
     ]
    }
   ],
   "source": [
    "print(\"The score of Logistic Regression on the training set is {:.1f} %.\".format(logreg.score(X_train, y_train)*100))\n",
    "print(\"The score of Logistic Regression on the test set is {:.1f} %.\".format(logreg.score(X_test, y_test)*100))"
   ]
  },
  {
   "cell_type": "markdown",
   "metadata": {},
   "source": [
    "### 2.4.3. Random Forest Classifier"
   ]
  },
  {
   "cell_type": "code",
   "execution_count": 58,
   "metadata": {},
   "outputs": [
    {
     "data": {
      "text/plain": [
       "RandomForestClassifier(bootstrap=True, class_weight=None, criterion='gini',\n",
       "            max_depth=5, max_features='auto', max_leaf_nodes=None,\n",
       "            min_impurity_decrease=0.0, min_impurity_split=None,\n",
       "            min_samples_leaf=1, min_samples_split=2,\n",
       "            min_weight_fraction_leaf=0.0, n_estimators=10, n_jobs=1,\n",
       "            oob_score=False, random_state=None, verbose=0,\n",
       "            warm_start=False)"
      ]
     },
     "execution_count": 58,
     "metadata": {},
     "output_type": "execute_result"
    }
   ],
   "source": [
    "## Random Forest Classifier\n",
    "\n",
    "from sklearn.ensemble import RandomForestClassifier\n",
    "\n",
    "## with max_depth=3\n",
    "\n",
    "rfc_3 = RandomForestClassifier(max_depth=3)\n",
    "rfc_3.fit(X_train,y_train)\n",
    "\n",
    "## with max_depth=5\n",
    "\n",
    "rfc_5 = RandomForestClassifier(max_depth=5)\n",
    "rfc_5.fit(X_train,y_train)"
   ]
  },
  {
   "cell_type": "code",
   "execution_count": 59,
   "metadata": {},
   "outputs": [
    {
     "name": "stdout",
     "output_type": "stream",
     "text": [
      "The score of Random Forest Classifier with max_depth=3 on the training set is 48.9 %.\n",
      "The score of Random Forest Classifier with max_depth=3 on the test set is 48.9 %.\n",
      "The score of Random Forest Classifier with max_depth=5 on the train set is 50.2 %.\n",
      "The score of Random Forest Classifier with max_depth=5 on the test set is 50.0 %.\n"
     ]
    }
   ],
   "source": [
    "print(\"The score of Random Forest Classifier with max_depth=3 on the training set is {:.1f} %.\".format(rfc_3.score(X_train, y_train)*100))\n",
    "print(\"The score of Random Forest Classifier with max_depth=3 on the test set is {:.1f} %.\".format(rfc_3.score(X_test, y_test)*100))\n",
    "\n",
    "print(\"The score of Random Forest Classifier with max_depth=5 on the train set is {:.1f} %.\".format(rfc_5.score(X_train, y_train)*100))\n",
    "print(\"The score of Random Forest Classifier with max_depth=5 on the test set is {:.1f} %.\".format(rfc_5.score(X_test, y_test)*100))"
   ]
  },
  {
   "cell_type": "markdown",
   "metadata": {},
   "source": [
    "### 2.4.4. Decision Tree Classifier"
   ]
  },
  {
   "cell_type": "code",
   "execution_count": 60,
   "metadata": {},
   "outputs": [
    {
     "data": {
      "text/plain": [
       "DecisionTreeClassifier(class_weight=None, criterion='gini', max_depth=5,\n",
       "            max_features=None, max_leaf_nodes=None,\n",
       "            min_impurity_decrease=0.0, min_impurity_split=None,\n",
       "            min_samples_leaf=1, min_samples_split=2,\n",
       "            min_weight_fraction_leaf=0.0, presort=False, random_state=None,\n",
       "            splitter='best')"
      ]
     },
     "execution_count": 60,
     "metadata": {},
     "output_type": "execute_result"
    }
   ],
   "source": [
    "## Decision Tree Classifier\n",
    "\n",
    "from sklearn.tree import DecisionTreeClassifier\n",
    "\n",
    "## with max_depth=3\n",
    "\n",
    "dt_3 = DecisionTreeClassifier(max_depth=3)\n",
    "dt_3.fit(X_train,y_train)\n",
    "\n",
    "## with max_depth=5\n",
    "\n",
    "dt_5 = DecisionTreeClassifier(max_depth=5)\n",
    "dt_5.fit(X_train,y_train)"
   ]
  },
  {
   "cell_type": "code",
   "execution_count": 61,
   "metadata": {},
   "outputs": [
    {
     "name": "stdout",
     "output_type": "stream",
     "text": [
      "The score of Decision Tree Classifier with max_depth=3 on the training set is 48.9 %.\n",
      "The score of Decision Tree Classifier with max_depth=3 on the test set is 48.8 %.\n",
      "The score of Decision Tree Classifier with max_depth=5 on the training set is 50.4 %.\n",
      "The score of Decision Tree Classifier with max_depth=5 on the test set is 50.2 %.\n"
     ]
    }
   ],
   "source": [
    "print(\"The score of Decision Tree Classifier with max_depth=3 on the training set is {:.1f} %.\".format(dt_3.score(X_train, y_train)*100))\n",
    "print(\"The score of Decision Tree Classifier with max_depth=3 on the test set is {:.1f} %.\".format(dt_3.score(X_test, y_test)*100))\n",
    "\n",
    "\n",
    "print(\"The score of Decision Tree Classifier with max_depth=5 on the training set is {:.1f} %.\".format(dt_5.score(X_train, y_train)*100))\n",
    "print(\"The score of Decision Tree Classifier with max_depth=5 on the test set is {:.1f} %.\".format(dt_5.score(X_test, y_test)*100))"
   ]
  },
  {
   "cell_type": "markdown",
   "metadata": {},
   "source": [
    "### 2.4.5. Comparing Scores of the Models"
   ]
  },
  {
   "cell_type": "code",
   "execution_count": 62,
   "metadata": {},
   "outputs": [
    {
     "name": "stdout",
     "output_type": "stream",
     "text": [
      "The score of KNN with k=7 on the test set is 55.1 %.\n",
      "The score of KNN with k=7 on the test set is 54.9 %.\n",
      "The score of Logistic Regression on the test set is 48.6 %.\n",
      "The score of Random Forest Classifier with max_depth=3 on the test set is 48.9 %.\n",
      "The score of Random Forest Classifier with max_depth=3 on the test set is 50.0 %.\n",
      "The score of Decision Tree Classifier with max_depth=3 on the test set is 48.8 %.\n",
      "The score of Decision Tree Classifier with max_depth=3 on the test set is 50.2 %.\n"
     ]
    }
   ],
   "source": [
    "print(\"The score of KNN with k=7 on the test set is {:.1f} %.\".format(knn_5.score(X_test, y_test)*100))\n",
    "print(\"The score of KNN with k=7 on the test set is {:.1f} %.\".format(knn_7.score(X_test, y_test)*100))\n",
    "print(\"The score of Logistic Regression on the test set is {:.1f} %.\".format(logreg.score(X_test, y_test)*100))\n",
    "print(\"The score of Random Forest Classifier with max_depth=3 on the test set is {:.1f} %.\".format(rfc_3.score(X_test, y_test)*100))\n",
    "print(\"The score of Random Forest Classifier with max_depth=3 on the test set is {:.1f} %.\".format(rfc_5.score(X_test, y_test)*100))\n",
    "print(\"The score of Decision Tree Classifier with max_depth=3 on the test set is {:.1f} %.\".format(dt_3.score(X_test, y_test)*100))\n",
    "print(\"The score of Decision Tree Classifier with max_depth=3 on the test set is {:.1f} %.\".format(dt_5.score(X_test, y_test)*100))\n"
   ]
  },
  {
   "cell_type": "code",
   "execution_count": 63,
   "metadata": {
    "collapsed": true
   },
   "outputs": [],
   "source": [
    "final_scores = pd.DataFrame(index=[\"knn_5\",\"knn_7\",\"logistic regression\",\"random_forest_3\",\"random_fores_5\",\n",
    "                                  \"decision_tree_3\",\"decision_tree_5\"], columns=[\"Scores\"])"
   ]
  },
  {
   "cell_type": "code",
   "execution_count": 64,
   "metadata": {
    "collapsed": true
   },
   "outputs": [],
   "source": [
    "scores = [knn_5.score(X_test, y_test), knn_7.score(X_test, y_test), logreg.score(X_test, y_test),\n",
    "         rfc_3.score(X_test, y_test), rfc_5.score(X_test, y_test), dt_3.score(X_test, y_test), dt_5.score(X_test, y_test) ]"
   ]
  },
  {
   "cell_type": "code",
   "execution_count": 65,
   "metadata": {},
   "outputs": [
    {
     "data": {
      "text/html": [
       "<div>\n",
       "<style>\n",
       "    .dataframe thead tr:only-child th {\n",
       "        text-align: right;\n",
       "    }\n",
       "\n",
       "    .dataframe thead th {\n",
       "        text-align: left;\n",
       "    }\n",
       "\n",
       "    .dataframe tbody tr th {\n",
       "        vertical-align: top;\n",
       "    }\n",
       "</style>\n",
       "<table border=\"1\" class=\"dataframe\">\n",
       "  <thead>\n",
       "    <tr style=\"text-align: right;\">\n",
       "      <th></th>\n",
       "      <th>Scores</th>\n",
       "    </tr>\n",
       "  </thead>\n",
       "  <tbody>\n",
       "    <tr>\n",
       "      <th>knn_5</th>\n",
       "      <td>0.550631</td>\n",
       "    </tr>\n",
       "    <tr>\n",
       "      <th>knn_7</th>\n",
       "      <td>0.549261</td>\n",
       "    </tr>\n",
       "    <tr>\n",
       "      <th>logistic regression</th>\n",
       "      <td>0.485724</td>\n",
       "    </tr>\n",
       "    <tr>\n",
       "      <th>random_forest_3</th>\n",
       "      <td>0.488628</td>\n",
       "    </tr>\n",
       "    <tr>\n",
       "      <th>random_fores_5</th>\n",
       "      <td>0.500435</td>\n",
       "    </tr>\n",
       "    <tr>\n",
       "      <th>decision_tree_3</th>\n",
       "      <td>0.488044</td>\n",
       "    </tr>\n",
       "    <tr>\n",
       "      <th>decision_tree_5</th>\n",
       "      <td>0.502007</td>\n",
       "    </tr>\n",
       "  </tbody>\n",
       "</table>\n",
       "</div>"
      ],
      "text/plain": [
       "                       Scores\n",
       "knn_5                0.550631\n",
       "knn_7                0.549261\n",
       "logistic regression  0.485724\n",
       "random_forest_3      0.488628\n",
       "random_fores_5       0.500435\n",
       "decision_tree_3      0.488044\n",
       "decision_tree_5      0.502007"
      ]
     },
     "execution_count": 65,
     "metadata": {},
     "output_type": "execute_result"
    }
   ],
   "source": [
    "final_scores[\"Scores\"] = scores\n",
    "final_scores"
   ]
  },
  {
   "cell_type": "markdown",
   "metadata": {},
   "source": [
    "It seems KNN is better compared to other models. Time to improve the model."
   ]
  },
  {
   "cell_type": "markdown",
   "metadata": {},
   "source": [
    "### 2.4.6. Elaborating KNN by Elbow Method"
   ]
  },
  {
   "cell_type": "markdown",
   "metadata": {},
   "source": [
    "Let's elaborate KNN and find an optimum k by elbow method"
   ]
  },
  {
   "cell_type": "code",
   "execution_count": 66,
   "metadata": {
    "collapsed": true
   },
   "outputs": [],
   "source": [
    "k = range(1, 10)"
   ]
  },
  {
   "cell_type": "code",
   "execution_count": 67,
   "metadata": {},
   "outputs": [
    {
     "data": {
      "text/plain": [
       "[KNeighborsClassifier(algorithm='auto', leaf_size=30, metric='minkowski',\n",
       "            metric_params=None, n_jobs=1, n_neighbors=1, p=2,\n",
       "            weights='uniform'),\n",
       " KNeighborsClassifier(algorithm='auto', leaf_size=30, metric='minkowski',\n",
       "            metric_params=None, n_jobs=1, n_neighbors=2, p=2,\n",
       "            weights='uniform'),\n",
       " KNeighborsClassifier(algorithm='auto', leaf_size=30, metric='minkowski',\n",
       "            metric_params=None, n_jobs=1, n_neighbors=3, p=2,\n",
       "            weights='uniform'),\n",
       " KNeighborsClassifier(algorithm='auto', leaf_size=30, metric='minkowski',\n",
       "            metric_params=None, n_jobs=1, n_neighbors=4, p=2,\n",
       "            weights='uniform'),\n",
       " KNeighborsClassifier(algorithm='auto', leaf_size=30, metric='minkowski',\n",
       "            metric_params=None, n_jobs=1, n_neighbors=5, p=2,\n",
       "            weights='uniform'),\n",
       " KNeighborsClassifier(algorithm='auto', leaf_size=30, metric='minkowski',\n",
       "            metric_params=None, n_jobs=1, n_neighbors=6, p=2,\n",
       "            weights='uniform'),\n",
       " KNeighborsClassifier(algorithm='auto', leaf_size=30, metric='minkowski',\n",
       "            metric_params=None, n_jobs=1, n_neighbors=7, p=2,\n",
       "            weights='uniform'),\n",
       " KNeighborsClassifier(algorithm='auto', leaf_size=30, metric='minkowski',\n",
       "            metric_params=None, n_jobs=1, n_neighbors=8, p=2,\n",
       "            weights='uniform'),\n",
       " KNeighborsClassifier(algorithm='auto', leaf_size=30, metric='minkowski',\n",
       "            metric_params=None, n_jobs=1, n_neighbors=9, p=2,\n",
       "            weights='uniform')]"
      ]
     },
     "execution_count": 67,
     "metadata": {},
     "output_type": "execute_result"
    }
   ],
   "source": [
    "knn_k = [KNeighborsClassifier(n_neighbors=i) for i in k]\n",
    "knn_k"
   ]
  },
  {
   "cell_type": "code",
   "execution_count": 68,
   "metadata": {},
   "outputs": [
    {
     "data": {
      "text/plain": [
       "[0.89548384798945757,\n",
       " 0.73069594329878551,\n",
       " 0.71522954731630872,\n",
       " 0.6858460661751612,\n",
       " 0.67261459557645042,\n",
       " 0.65745984257577372,\n",
       " 0.64814616946254944,\n",
       " 0.63912633116073658,\n",
       " 0.63270648573565547]"
      ]
     },
     "execution_count": 68,
     "metadata": {},
     "output_type": "execute_result"
    }
   ],
   "source": [
    "knn_score_train = [knn_k[i].fit(X_train, y_train).score(X_train, y_train) for i in range(len(knn_k))]\n",
    "knn_score_train"
   ]
  },
  {
   "cell_type": "code",
   "execution_count": 69,
   "metadata": {},
   "outputs": [
    {
     "data": {
      "image/png": "[encoded data removed]",
      "text/plain": [
       "<matplotlib.figure.Figure at 0x25c87d1b7b8>"
      ]
     },
     "metadata": {},
     "output_type": "display_data"
    }
   ],
   "source": [
    "plt.subplots(figsize=(10,7))\n",
    "plt.plot(k,knn_score_train)\n",
    "plt.xlabel('K Numbers')\n",
    "plt.ylabel('Score')\n",
    "plt.title('Elbow Curve for Train Set')\n",
    "plt.show()"
   ]
  },
  {
   "cell_type": "markdown",
   "metadata": {},
   "source": [
    "It seems score decreases as k increases for train set. It is better to check test set."
   ]
  },
  {
   "cell_type": "code",
   "execution_count": 70,
   "metadata": {},
   "outputs": [
    {
     "data": {
      "text/plain": [
       "[0.86971387576606352,\n",
       " 0.73039144603783956,\n",
       " 0.7193059445763087,\n",
       " 0.69238019644806037,\n",
       " 0.68170682378441083,\n",
       " 0.66784326894456869,\n",
       " 0.66083326337319792,\n",
       " 0.65206789440344359,\n",
       " 0.64615689895975637]"
      ]
     },
     "execution_count": 70,
     "metadata": {},
     "output_type": "execute_result"
    }
   ],
   "source": [
    "knn_score_test = [knn_k[i].fit(X_test, y_test).score(X_test, y_test) for i in range(len(knn_k))]\n",
    "knn_score_test"
   ]
  },
  {
   "cell_type": "code",
   "execution_count": 71,
   "metadata": {},
   "outputs": [
    {
     "data": {
      "image/png": "[encoded data removed]",
      "text/plain": [
       "<matplotlib.figure.Figure at 0x25c87dc7f98>"
      ]
     },
     "metadata": {},
     "output_type": "display_data"
    }
   ],
   "source": [
    "plt.subplots(figsize=(10,7))\n",
    "plt.plot(k,knn_score_train)\n",
    "plt.xlabel('K Numbers')\n",
    "plt.ylabel('Score')\n",
    "plt.title('Elbow Curve Test Set')\n",
    "plt.show()"
   ]
  },
  {
   "cell_type": "markdown",
   "metadata": {
    "collapsed": true
   },
   "source": [
    "We see similar pattern; the smaller k is, the better the score we get. So, k should be 1. "
   ]
  },
  {
   "cell_type": "code",
   "execution_count": 72,
   "metadata": {},
   "outputs": [
    {
     "name": "stdout",
     "output_type": "stream",
     "text": [
      "For k=1, the score of KNN is  0.869713875766 .\n"
     ]
    }
   ],
   "source": [
    "## Summary\n",
    "print(\"For k=1, the score of KNN is \", knn_score_test[0], \".\")"
   ]
  }
 ],
 "metadata": {
  "kernelspec": {
   "display_name": "Python 3",
   "language": "python",
   "name": "python3"
  },
  "language_info": {
   "codemirror_mode": {
    "name": "ipython",
    "version": 3
   },
   "file_extension": ".py",
   "mimetype": "text/x-python",
   "name": "python",
   "nbconvert_exporter": "python",
   "pygments_lexer": "ipython3",
   "version": "3.6.3"
  }
 },
 "nbformat": 4,
 "nbformat_minor": 2
}
